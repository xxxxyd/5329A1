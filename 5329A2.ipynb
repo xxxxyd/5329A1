{
  "cells": [
    {
      "cell_type": "markdown",
      "metadata": {
        "id": "view-in-github",
        "colab_type": "text"
      },
      "source": [
        "<a href=\"https://colab.research.google.com/github/xxxxyd/5329A1/blob/main/5329A2.ipynb\" target=\"_parent\"><img src=\"https://colab.research.google.com/assets/colab-badge.svg\" alt=\"Open In Colab\"/></a>"
      ]
    },
    {
      "cell_type": "markdown",
      "id": "ea5798cd-0a9e-4ec9-b56a-af2a0d6fb47d",
      "metadata": {
        "id": "ea5798cd-0a9e-4ec9-b56a-af2a0d6fb47d"
      },
      "source": [
        "# Import packages"
      ]
    },
    {
      "cell_type": "code",
      "execution_count": 1,
      "id": "7185e882-869b-4624-aab5-d109e10ffa58",
      "metadata": {
        "id": "7185e882-869b-4624-aab5-d109e10ffa58"
      },
      "outputs": [],
      "source": [
        "import os\n",
        "import re\n",
        "import time\n",
        "import numpy as np\n",
        "import pandas as pd\n",
        "import matplotlib.pyplot as plt\n",
        "from io import StringIO\n",
        "from PIL import Image\n",
        "from collections import Counter\n",
        "\n",
        "import torch\n",
        "from torch import nn, optim\n",
        "from torch.utils.data import Dataset, DataLoader\n",
        "from torchvision import transforms\n",
        "from torchvision.models import resnet18, resnet34\n",
        "\n",
        "from sklearn.model_selection import train_test_split\n",
        "from sklearn.metrics import f1_score, accuracy_score\n",
        "\n",
        "from transformers import BertTokenizer, BertModel\n",
        "\n",
        "import seaborn as sns\n",
        "from torch.cuda.amp import GradScaler, autocast\n"
      ]
    },
    {
      "cell_type": "markdown",
      "id": "515ac1ee-c77f-4c89-be71-76192b5107a8",
      "metadata": {
        "id": "515ac1ee-c77f-4c89-be71-76192b5107a8"
      },
      "source": [
        "# Loading Data"
      ]
    },
    {
      "cell_type": "code",
      "execution_count": 2,
      "id": "e447b15d-50c9-4272-85e9-242b06394642",
      "metadata": {
        "id": "e447b15d-50c9-4272-85e9-242b06394642"
      },
      "outputs": [],
      "source": [
        "def read_data(path):\n",
        "    with open(path, \"r\", encoding=\"utf-8\") as file:\n",
        "        lines = [re.sub(r'([^,])\"(\\s*[^\\n])', r'\\1/\"\\2', line) for line in file]\n",
        "        df = pd.read_csv(StringIO(''.join(lines)), escapechar=\"/\")\n",
        "    return df"
      ]
    },
    {
      "cell_type": "markdown",
      "id": "5f2c4082-204d-4f1d-82aa-518a54a2cf31",
      "metadata": {
        "id": "5f2c4082-204d-4f1d-82aa-518a54a2cf31"
      },
      "source": [
        "# Data preprocess"
      ]
    },
    {
      "cell_type": "code",
      "execution_count": 3,
      "id": "01ac0e63-a352-4921-a01d-3f3af104364d",
      "metadata": {
        "id": "01ac0e63-a352-4921-a01d-3f3af104364d"
      },
      "outputs": [],
      "source": [
        "class TrainImageDataset(Dataset):\n",
        "    def __init__(self, data, img_dir, tokenizer, transform=None):\n",
        "        self.data_frame = data\n",
        "        self.img_dir = img_dir\n",
        "        self.transform = transform\n",
        "        self.tokenizer = tokenizer\n",
        "\n",
        "    def __len__(self):\n",
        "        return len(self.data_frame)\n",
        "\n",
        "    def preprocess_text(self, text):\n",
        "        text = re.sub(r'[^\\\\w\\\\s]', '', text)\n",
        "        return text.lower()\n",
        "\n",
        "    def __getitem__(self, idx):\n",
        "        img_name = self.data_frame.iloc[idx]['ImageID']\n",
        "        img_path = os.path.join(self.img_dir, img_name)\n",
        "        image = Image.open(img_path).convert('RGB')\n",
        "\n",
        "        label_str = self.data_frame.iloc[idx]['Labels']\n",
        "        label_ids = [int(x) for x in label_str.split()]\n",
        "        label_tensor = torch.zeros(19, dtype=torch.float32)\n",
        "        for l in label_ids:\n",
        "            if 1 <= l <= 19:\n",
        "                label_tensor[l - 1] = 1\n",
        "\n",
        "        if self.transform:\n",
        "            image = self.transform(image)\n",
        "\n",
        "        caption = self.data_frame.iloc[idx]['Caption']\n",
        "        caption = self.preprocess_text(caption)\n",
        "        text_inputs = self.tokenizer(caption, return_tensors='pt', padding='max_length', max_length=128, truncation=True)\n",
        "\n",
        "        input_ids = text_inputs['input_ids'].squeeze(0)\n",
        "        attention_mask = text_inputs['attention_mask'].squeeze(0)\n",
        "\n",
        "        return image, label_tensor, input_ids, attention_mask\n"
      ]
    },
    {
      "cell_type": "code",
      "execution_count": 4,
      "id": "baf56c03-b553-44a6-9667-37b56597ec61",
      "metadata": {
        "id": "baf56c03-b553-44a6-9667-37b56597ec61"
      },
      "outputs": [],
      "source": [
        "class ImageTestDataset(Dataset):\n",
        "    def __init__(self, data, img_dir, tokenizer, transform=None):\n",
        "        self.data_frame = data\n",
        "        self.img_dir = img_dir\n",
        "        self.transform = transform\n",
        "        self.tokenizer = tokenizer\n",
        "\n",
        "    def __len__(self):\n",
        "        return len(self.data_frame)\n",
        "\n",
        "    def preprocess_text(self, text):\n",
        "        text = re.sub(r'[^\\\\w\\\\s]', '', text)\n",
        "        return text.lower()\n",
        "\n",
        "    def __getitem__(self, idx):\n",
        "        img_name = self.data_frame.iloc[idx]['ImageID']\n",
        "        img_path = os.path.join(self.img_dir, img_name)\n",
        "        image = Image.open(img_path).convert('RGB')\n",
        "\n",
        "        if self.transform:\n",
        "            image = self.transform(image)\n",
        "\n",
        "        caption = self.data_frame.iloc[idx]['Caption']\n",
        "        caption = self.preprocess_text(caption)\n",
        "        text_inputs = self.tokenizer(caption, return_tensors='pt', padding='max_length', max_length=128, truncation=True)\n",
        "\n",
        "        input_ids = text_inputs['input_ids'].squeeze(0)\n",
        "        attention_mask = text_inputs['attention_mask'].squeeze(0)\n",
        "\n",
        "        return image, img_name, input_ids, attention_mask\n"
      ]
    },
    {
      "cell_type": "code",
      "execution_count": 6,
      "id": "4da32836-72ab-4af3-85b1-e16cd59c21d7",
      "metadata": {
        "id": "4da32836-72ab-4af3-85b1-e16cd59c21d7",
        "outputId": "2fcb379e-0578-4d9a-8499-e4ec1d228c95",
        "colab": {
          "base_uri": "https://localhost:8080/",
          "height": 240,
          "referenced_widgets": [
            "9618ceaafd1a4e5fa03dfe9100f9244b",
            "2fe0831ff0814ca88df60fd966361a21",
            "c7aa1a29f55d4175a9a25b81908d4752",
            "8fab371a33754497a4837c5dd57794db",
            "b417490b1b044781900d9d7103dcca73",
            "4e4041fa211a4d9ea4fdc9846e9679b2",
            "6af763c95a7f4de0be4b12706508d33f",
            "dc2d7585e3a64d5a9ad6ba00e8dd2671",
            "f786042ed4e64c35b1c7eb02c8aad6b4",
            "36822762d069480db0c00b96d1dacf28",
            "c3484826e867461986e23c4f115b45db",
            "6bbd177fdca14e81bbb1d3c55cf41ba0",
            "6c946f388de54f81820d8df71fe6d388",
            "95351160cd5e499b8ea730a25a81940d",
            "dcc3481e20594533a9fa455c32166a75",
            "6420959bf8e54c3d8123245eda562bdf",
            "b83c0f5d7255441793bfaee1d14b86b4",
            "5645af4ce5ef4181b5cb3ca66cacdef0",
            "77f229120986437e90f1323f81daa398",
            "a1fe71d18b34428fb48d8b82e74f65ad",
            "effe46e47f8949ac93dda2e5d7058e32",
            "e2b179408c9744ec971d58039854cd0c"
          ]
        }
      },
      "outputs": [
        {
          "output_type": "stream",
          "name": "stderr",
          "text": [
            "/usr/local/lib/python3.11/dist-packages/huggingface_hub/utils/_auth.py:94: UserWarning: \n",
            "The secret `HF_TOKEN` does not exist in your Colab secrets.\n",
            "To authenticate with the Hugging Face Hub, create a token in your settings tab (https://huggingface.co/settings/tokens), set it as secret in your Google Colab and restart your session.\n",
            "You will be able to reuse this secret in all of your notebooks.\n",
            "Please note that authentication is recommended but still optional to access public models or datasets.\n",
            "  warnings.warn(\n"
          ]
        },
        {
          "output_type": "display_data",
          "data": {
            "text/plain": [
              "vocab.txt:   0%|          | 0.00/232k [00:00<?, ?B/s]"
            ],
            "application/vnd.jupyter.widget-view+json": {
              "version_major": 2,
              "version_minor": 0,
              "model_id": "9618ceaafd1a4e5fa03dfe9100f9244b"
            }
          },
          "metadata": {}
        },
        {
          "output_type": "display_data",
          "data": {
            "text/plain": [
              "config.json:   0%|          | 0.00/286 [00:00<?, ?B/s]"
            ],
            "application/vnd.jupyter.widget-view+json": {
              "version_major": 2,
              "version_minor": 0,
              "model_id": "6bbd177fdca14e81bbb1d3c55cf41ba0"
            }
          },
          "metadata": {}
        },
        {
          "output_type": "stream",
          "name": "stdout",
          "text": [
            "Train size: 23996\n",
            "Valid size: 6000\n"
          ]
        }
      ],
      "source": [
        "from sklearn.model_selection import train_test_split\n",
        "\n",
        "# Load full train and test data\n",
        "train_data = read_data(\"/content/train.csv\")\n",
        "test_data = read_data(\"/content/test.csv\")\n",
        "\n",
        "train_data = train_data.reset_index(drop=True)\n",
        "\n",
        "# Split into train/validation\n",
        "train_data, valid_data = train_test_split(train_data, test_size=0.2, random_state=42)\n",
        "\n",
        "# Define image transforms\n",
        "train_transform = transforms.Compose([\n",
        "    transforms.Resize((224, 224)),\n",
        "    transforms.RandomHorizontalFlip(p=0.5),  # 只在训练集增强，且p=0.5更合理\n",
        "    transforms.ToTensor(),\n",
        "    transforms.Normalize([0.485, 0.456, 0.406], [0.229, 0.224, 0.225])\n",
        "])\n",
        "valid_transform = transforms.Compose([\n",
        "    transforms.Resize((224, 224)),\n",
        "    transforms.ToTensor(),\n",
        "    transforms.Normalize([0.485, 0.456, 0.406], [0.229, 0.224, 0.225])\n",
        "])\n",
        "\n",
        "# Load tokenizer\n",
        "tokenizer = BertTokenizer.from_pretrained('prajjwal1/bert-mini')\n",
        "\n",
        "# Create datasets\n",
        "image_folder = \"COMP5329S1A2Dataset/data\"\n",
        "\n",
        "train_dataset = TrainImageDataset(train_data, image_folder, tokenizer, train_transform)\n",
        "valid_dataset = TrainImageDataset(valid_data, image_folder, tokenizer, valid_transform)\n",
        "\n",
        "# Create data loaders\n",
        "train_loader = DataLoader(train_dataset, batch_size=64, shuffle=True, num_workers=0)\n",
        "valid_loader = DataLoader(valid_dataset, batch_size=64, shuffle=False, num_workers=0)\n",
        "\n",
        "print(\"Train size:\", len(train_loader.dataset))\n",
        "print(\"Valid size:\", len(valid_loader.dataset))\n"
      ]
    },
    {
      "cell_type": "markdown",
      "id": "f9042e7f-2b5c-45f2-aa3a-d8c616cb6ea6",
      "metadata": {
        "id": "f9042e7f-2b5c-45f2-aa3a-d8c616cb6ea6"
      },
      "source": [
        "# Data exploration"
      ]
    },
    {
      "cell_type": "code",
      "execution_count": 7,
      "id": "5333e9da-ae95-4f34-9e6a-a7ef1b02009c",
      "metadata": {
        "scrolled": true,
        "id": "5333e9da-ae95-4f34-9e6a-a7ef1b02009c",
        "outputId": "fc70da88-2bf4-4209-9b95-0d2b5eebc37d",
        "colab": {
          "base_uri": "https://localhost:8080/",
          "height": 1000
        }
      },
      "outputs": [
        {
          "output_type": "error",
          "ename": "FileNotFoundError",
          "evalue": "[Errno 2] No such file or directory: 'COMP5329S1A2Dataset/data/29478.jpg'",
          "traceback": [
            "\u001b[0;31m---------------------------------------------------------------------------\u001b[0m",
            "\u001b[0;31mFileNotFoundError\u001b[0m                         Traceback (most recent call last)",
            "\u001b[0;32m<ipython-input-7-a208b910d4fe>\u001b[0m in \u001b[0;36m<cell line: 0>\u001b[0;34m()\u001b[0m\n\u001b[1;32m      1\u001b[0m \u001b[0mfig\u001b[0m\u001b[0;34m,\u001b[0m \u001b[0maxes\u001b[0m \u001b[0;34m=\u001b[0m \u001b[0mplt\u001b[0m\u001b[0;34m.\u001b[0m\u001b[0msubplots\u001b[0m\u001b[0;34m(\u001b[0m\u001b[0;36m3\u001b[0m\u001b[0;34m,\u001b[0m \u001b[0;36m3\u001b[0m\u001b[0;34m,\u001b[0m \u001b[0mfigsize\u001b[0m\u001b[0;34m=\u001b[0m\u001b[0;34m(\u001b[0m\u001b[0;36m10\u001b[0m\u001b[0;34m,\u001b[0m \u001b[0;36m10\u001b[0m\u001b[0;34m)\u001b[0m\u001b[0;34m)\u001b[0m\u001b[0;34m\u001b[0m\u001b[0;34m\u001b[0m\u001b[0m\n\u001b[1;32m      2\u001b[0m \u001b[0;34m\u001b[0m\u001b[0m\n\u001b[0;32m----> 3\u001b[0;31m \u001b[0mbatch_data\u001b[0m \u001b[0;34m=\u001b[0m \u001b[0mnext\u001b[0m\u001b[0;34m(\u001b[0m\u001b[0miter\u001b[0m\u001b[0;34m(\u001b[0m\u001b[0mtrain_loader\u001b[0m\u001b[0;34m)\u001b[0m\u001b[0;34m)\u001b[0m\u001b[0;34m\u001b[0m\u001b[0;34m\u001b[0m\u001b[0m\n\u001b[0m\u001b[1;32m      4\u001b[0m \u001b[0mimages\u001b[0m\u001b[0;34m,\u001b[0m \u001b[0mlabel_tensors\u001b[0m\u001b[0;34m,\u001b[0m \u001b[0minput_ids\u001b[0m\u001b[0;34m,\u001b[0m \u001b[0mattention_masks\u001b[0m \u001b[0;34m=\u001b[0m \u001b[0mnext\u001b[0m\u001b[0;34m(\u001b[0m\u001b[0miter\u001b[0m\u001b[0;34m(\u001b[0m\u001b[0mtrain_loader\u001b[0m\u001b[0;34m)\u001b[0m\u001b[0;34m)\u001b[0m\u001b[0;34m\u001b[0m\u001b[0;34m\u001b[0m\u001b[0m\n\u001b[1;32m      5\u001b[0m \u001b[0;34m\u001b[0m\u001b[0m\n",
            "\u001b[0;32m/usr/local/lib/python3.11/dist-packages/torch/utils/data/dataloader.py\u001b[0m in \u001b[0;36m__next__\u001b[0;34m(self)\u001b[0m\n\u001b[1;32m    706\u001b[0m                 \u001b[0;31m# TODO(https://github.com/pytorch/pytorch/issues/76750)\u001b[0m\u001b[0;34m\u001b[0m\u001b[0;34m\u001b[0m\u001b[0m\n\u001b[1;32m    707\u001b[0m                 \u001b[0mself\u001b[0m\u001b[0;34m.\u001b[0m\u001b[0m_reset\u001b[0m\u001b[0;34m(\u001b[0m\u001b[0;34m)\u001b[0m  \u001b[0;31m# type: ignore[call-arg]\u001b[0m\u001b[0;34m\u001b[0m\u001b[0;34m\u001b[0m\u001b[0m\n\u001b[0;32m--> 708\u001b[0;31m             \u001b[0mdata\u001b[0m \u001b[0;34m=\u001b[0m \u001b[0mself\u001b[0m\u001b[0;34m.\u001b[0m\u001b[0m_next_data\u001b[0m\u001b[0;34m(\u001b[0m\u001b[0;34m)\u001b[0m\u001b[0;34m\u001b[0m\u001b[0;34m\u001b[0m\u001b[0m\n\u001b[0m\u001b[1;32m    709\u001b[0m             \u001b[0mself\u001b[0m\u001b[0;34m.\u001b[0m\u001b[0m_num_yielded\u001b[0m \u001b[0;34m+=\u001b[0m \u001b[0;36m1\u001b[0m\u001b[0;34m\u001b[0m\u001b[0;34m\u001b[0m\u001b[0m\n\u001b[1;32m    710\u001b[0m             if (\n",
            "\u001b[0;32m/usr/local/lib/python3.11/dist-packages/torch/utils/data/dataloader.py\u001b[0m in \u001b[0;36m_next_data\u001b[0;34m(self)\u001b[0m\n\u001b[1;32m    762\u001b[0m     \u001b[0;32mdef\u001b[0m \u001b[0m_next_data\u001b[0m\u001b[0;34m(\u001b[0m\u001b[0mself\u001b[0m\u001b[0;34m)\u001b[0m\u001b[0;34m:\u001b[0m\u001b[0;34m\u001b[0m\u001b[0;34m\u001b[0m\u001b[0m\n\u001b[1;32m    763\u001b[0m         \u001b[0mindex\u001b[0m \u001b[0;34m=\u001b[0m \u001b[0mself\u001b[0m\u001b[0;34m.\u001b[0m\u001b[0m_next_index\u001b[0m\u001b[0;34m(\u001b[0m\u001b[0;34m)\u001b[0m  \u001b[0;31m# may raise StopIteration\u001b[0m\u001b[0;34m\u001b[0m\u001b[0;34m\u001b[0m\u001b[0m\n\u001b[0;32m--> 764\u001b[0;31m         \u001b[0mdata\u001b[0m \u001b[0;34m=\u001b[0m \u001b[0mself\u001b[0m\u001b[0;34m.\u001b[0m\u001b[0m_dataset_fetcher\u001b[0m\u001b[0;34m.\u001b[0m\u001b[0mfetch\u001b[0m\u001b[0;34m(\u001b[0m\u001b[0mindex\u001b[0m\u001b[0;34m)\u001b[0m  \u001b[0;31m# may raise StopIteration\u001b[0m\u001b[0;34m\u001b[0m\u001b[0;34m\u001b[0m\u001b[0m\n\u001b[0m\u001b[1;32m    765\u001b[0m         \u001b[0;32mif\u001b[0m \u001b[0mself\u001b[0m\u001b[0;34m.\u001b[0m\u001b[0m_pin_memory\u001b[0m\u001b[0;34m:\u001b[0m\u001b[0;34m\u001b[0m\u001b[0;34m\u001b[0m\u001b[0m\n\u001b[1;32m    766\u001b[0m             \u001b[0mdata\u001b[0m \u001b[0;34m=\u001b[0m \u001b[0m_utils\u001b[0m\u001b[0;34m.\u001b[0m\u001b[0mpin_memory\u001b[0m\u001b[0;34m.\u001b[0m\u001b[0mpin_memory\u001b[0m\u001b[0;34m(\u001b[0m\u001b[0mdata\u001b[0m\u001b[0;34m,\u001b[0m \u001b[0mself\u001b[0m\u001b[0;34m.\u001b[0m\u001b[0m_pin_memory_device\u001b[0m\u001b[0;34m)\u001b[0m\u001b[0;34m\u001b[0m\u001b[0;34m\u001b[0m\u001b[0m\n",
            "\u001b[0;32m/usr/local/lib/python3.11/dist-packages/torch/utils/data/_utils/fetch.py\u001b[0m in \u001b[0;36mfetch\u001b[0;34m(self, possibly_batched_index)\u001b[0m\n\u001b[1;32m     50\u001b[0m                 \u001b[0mdata\u001b[0m \u001b[0;34m=\u001b[0m \u001b[0mself\u001b[0m\u001b[0;34m.\u001b[0m\u001b[0mdataset\u001b[0m\u001b[0;34m.\u001b[0m\u001b[0m__getitems__\u001b[0m\u001b[0;34m(\u001b[0m\u001b[0mpossibly_batched_index\u001b[0m\u001b[0;34m)\u001b[0m\u001b[0;34m\u001b[0m\u001b[0;34m\u001b[0m\u001b[0m\n\u001b[1;32m     51\u001b[0m             \u001b[0;32melse\u001b[0m\u001b[0;34m:\u001b[0m\u001b[0;34m\u001b[0m\u001b[0;34m\u001b[0m\u001b[0m\n\u001b[0;32m---> 52\u001b[0;31m                 \u001b[0mdata\u001b[0m \u001b[0;34m=\u001b[0m \u001b[0;34m[\u001b[0m\u001b[0mself\u001b[0m\u001b[0;34m.\u001b[0m\u001b[0mdataset\u001b[0m\u001b[0;34m[\u001b[0m\u001b[0midx\u001b[0m\u001b[0;34m]\u001b[0m \u001b[0;32mfor\u001b[0m \u001b[0midx\u001b[0m \u001b[0;32min\u001b[0m \u001b[0mpossibly_batched_index\u001b[0m\u001b[0;34m]\u001b[0m\u001b[0;34m\u001b[0m\u001b[0;34m\u001b[0m\u001b[0m\n\u001b[0m\u001b[1;32m     53\u001b[0m         \u001b[0;32melse\u001b[0m\u001b[0;34m:\u001b[0m\u001b[0;34m\u001b[0m\u001b[0;34m\u001b[0m\u001b[0m\n\u001b[1;32m     54\u001b[0m             \u001b[0mdata\u001b[0m \u001b[0;34m=\u001b[0m \u001b[0mself\u001b[0m\u001b[0;34m.\u001b[0m\u001b[0mdataset\u001b[0m\u001b[0;34m[\u001b[0m\u001b[0mpossibly_batched_index\u001b[0m\u001b[0;34m]\u001b[0m\u001b[0;34m\u001b[0m\u001b[0;34m\u001b[0m\u001b[0m\n",
            "\u001b[0;32m/usr/local/lib/python3.11/dist-packages/torch/utils/data/_utils/fetch.py\u001b[0m in \u001b[0;36m<listcomp>\u001b[0;34m(.0)\u001b[0m\n\u001b[1;32m     50\u001b[0m                 \u001b[0mdata\u001b[0m \u001b[0;34m=\u001b[0m \u001b[0mself\u001b[0m\u001b[0;34m.\u001b[0m\u001b[0mdataset\u001b[0m\u001b[0;34m.\u001b[0m\u001b[0m__getitems__\u001b[0m\u001b[0;34m(\u001b[0m\u001b[0mpossibly_batched_index\u001b[0m\u001b[0;34m)\u001b[0m\u001b[0;34m\u001b[0m\u001b[0;34m\u001b[0m\u001b[0m\n\u001b[1;32m     51\u001b[0m             \u001b[0;32melse\u001b[0m\u001b[0;34m:\u001b[0m\u001b[0;34m\u001b[0m\u001b[0;34m\u001b[0m\u001b[0m\n\u001b[0;32m---> 52\u001b[0;31m                 \u001b[0mdata\u001b[0m \u001b[0;34m=\u001b[0m \u001b[0;34m[\u001b[0m\u001b[0mself\u001b[0m\u001b[0;34m.\u001b[0m\u001b[0mdataset\u001b[0m\u001b[0;34m[\u001b[0m\u001b[0midx\u001b[0m\u001b[0;34m]\u001b[0m \u001b[0;32mfor\u001b[0m \u001b[0midx\u001b[0m \u001b[0;32min\u001b[0m \u001b[0mpossibly_batched_index\u001b[0m\u001b[0;34m]\u001b[0m\u001b[0;34m\u001b[0m\u001b[0;34m\u001b[0m\u001b[0m\n\u001b[0m\u001b[1;32m     53\u001b[0m         \u001b[0;32melse\u001b[0m\u001b[0;34m:\u001b[0m\u001b[0;34m\u001b[0m\u001b[0;34m\u001b[0m\u001b[0m\n\u001b[1;32m     54\u001b[0m             \u001b[0mdata\u001b[0m \u001b[0;34m=\u001b[0m \u001b[0mself\u001b[0m\u001b[0;34m.\u001b[0m\u001b[0mdataset\u001b[0m\u001b[0;34m[\u001b[0m\u001b[0mpossibly_batched_index\u001b[0m\u001b[0;34m]\u001b[0m\u001b[0;34m\u001b[0m\u001b[0;34m\u001b[0m\u001b[0m\n",
            "\u001b[0;32m<ipython-input-3-f91da66bfeb1>\u001b[0m in \u001b[0;36m__getitem__\u001b[0;34m(self, idx)\u001b[0m\n\u001b[1;32m     16\u001b[0m         \u001b[0mimg_name\u001b[0m \u001b[0;34m=\u001b[0m \u001b[0mself\u001b[0m\u001b[0;34m.\u001b[0m\u001b[0mdata_frame\u001b[0m\u001b[0;34m.\u001b[0m\u001b[0miloc\u001b[0m\u001b[0;34m[\u001b[0m\u001b[0midx\u001b[0m\u001b[0;34m]\u001b[0m\u001b[0;34m[\u001b[0m\u001b[0;34m'ImageID'\u001b[0m\u001b[0;34m]\u001b[0m\u001b[0;34m\u001b[0m\u001b[0;34m\u001b[0m\u001b[0m\n\u001b[1;32m     17\u001b[0m         \u001b[0mimg_path\u001b[0m \u001b[0;34m=\u001b[0m \u001b[0mos\u001b[0m\u001b[0;34m.\u001b[0m\u001b[0mpath\u001b[0m\u001b[0;34m.\u001b[0m\u001b[0mjoin\u001b[0m\u001b[0;34m(\u001b[0m\u001b[0mself\u001b[0m\u001b[0;34m.\u001b[0m\u001b[0mimg_dir\u001b[0m\u001b[0;34m,\u001b[0m \u001b[0mimg_name\u001b[0m\u001b[0;34m)\u001b[0m\u001b[0;34m\u001b[0m\u001b[0;34m\u001b[0m\u001b[0m\n\u001b[0;32m---> 18\u001b[0;31m         \u001b[0mimage\u001b[0m \u001b[0;34m=\u001b[0m \u001b[0mImage\u001b[0m\u001b[0;34m.\u001b[0m\u001b[0mopen\u001b[0m\u001b[0;34m(\u001b[0m\u001b[0mimg_path\u001b[0m\u001b[0;34m)\u001b[0m\u001b[0;34m.\u001b[0m\u001b[0mconvert\u001b[0m\u001b[0;34m(\u001b[0m\u001b[0;34m'RGB'\u001b[0m\u001b[0;34m)\u001b[0m\u001b[0;34m\u001b[0m\u001b[0;34m\u001b[0m\u001b[0m\n\u001b[0m\u001b[1;32m     19\u001b[0m \u001b[0;34m\u001b[0m\u001b[0m\n\u001b[1;32m     20\u001b[0m         \u001b[0mlabel_str\u001b[0m \u001b[0;34m=\u001b[0m \u001b[0mself\u001b[0m\u001b[0;34m.\u001b[0m\u001b[0mdata_frame\u001b[0m\u001b[0;34m.\u001b[0m\u001b[0miloc\u001b[0m\u001b[0;34m[\u001b[0m\u001b[0midx\u001b[0m\u001b[0;34m]\u001b[0m\u001b[0;34m[\u001b[0m\u001b[0;34m'Labels'\u001b[0m\u001b[0;34m]\u001b[0m\u001b[0;34m\u001b[0m\u001b[0;34m\u001b[0m\u001b[0m\n",
            "\u001b[0;32m/usr/local/lib/python3.11/dist-packages/PIL/Image.py\u001b[0m in \u001b[0;36mopen\u001b[0;34m(fp, mode, formats)\u001b[0m\n\u001b[1;32m   3503\u001b[0m \u001b[0;34m\u001b[0m\u001b[0m\n\u001b[1;32m   3504\u001b[0m     \u001b[0;32mif\u001b[0m \u001b[0mfilename\u001b[0m\u001b[0;34m:\u001b[0m\u001b[0;34m\u001b[0m\u001b[0;34m\u001b[0m\u001b[0m\n\u001b[0;32m-> 3505\u001b[0;31m         \u001b[0mfp\u001b[0m \u001b[0;34m=\u001b[0m \u001b[0mbuiltins\u001b[0m\u001b[0;34m.\u001b[0m\u001b[0mopen\u001b[0m\u001b[0;34m(\u001b[0m\u001b[0mfilename\u001b[0m\u001b[0;34m,\u001b[0m \u001b[0;34m\"rb\"\u001b[0m\u001b[0;34m)\u001b[0m\u001b[0;34m\u001b[0m\u001b[0;34m\u001b[0m\u001b[0m\n\u001b[0m\u001b[1;32m   3506\u001b[0m         \u001b[0mexclusive_fp\u001b[0m \u001b[0;34m=\u001b[0m \u001b[0;32mTrue\u001b[0m\u001b[0;34m\u001b[0m\u001b[0;34m\u001b[0m\u001b[0m\n\u001b[1;32m   3507\u001b[0m     \u001b[0;32melse\u001b[0m\u001b[0;34m:\u001b[0m\u001b[0;34m\u001b[0m\u001b[0;34m\u001b[0m\u001b[0m\n",
            "\u001b[0;31mFileNotFoundError\u001b[0m: [Errno 2] No such file or directory: 'COMP5329S1A2Dataset/data/29478.jpg'"
          ]
        },
        {
          "output_type": "display_data",
          "data": {
            "text/plain": [
              "<Figure size 1000x1000 with 9 Axes>"
            ],
            "image/png": "[encoded data removed]"
          },
          "metadata": {}
        }
      ],
      "source": [
        "fig, axes = plt.subplots(3, 3, figsize=(10, 10))\n",
        "\n",
        "batch_data = next(iter(train_loader))\n",
        "images, label_tensors, input_ids, attention_masks = next(iter(train_loader))\n",
        "\n",
        "\n",
        "for i in range(9):\n",
        "    image = images[i]\n",
        "    label_tensor = label_tensors[i]\n",
        "    label_indices = torch.nonzero(label_tensor).squeeze().tolist()\n",
        "    label_str = \" \".join([str(idx + 1) for idx in label_indices]) if isinstance(label_indices, list) else str(label_indices + 1)\n",
        "\n",
        "    image = image.permute(1, 2, 0)\n",
        "    image = (image - image.min()) / (image.max() - image.min())\n",
        "\n",
        "    ax = axes[i // 3, i % 3]\n",
        "    ax.imshow(image)\n",
        "    ax.set_title('Labels: {}'.format(label_str))\n",
        "    ax.axis('off')\n",
        "\n",
        "plt.tight_layout()\n",
        "plt.savefig('train_img_label_preview.png')\n",
        "plt.show()"
      ]
    },
    {
      "cell_type": "code",
      "execution_count": null,
      "id": "0fd27500-d5fb-4f45-96c5-63c0ddebad5d",
      "metadata": {
        "id": "0fd27500-d5fb-4f45-96c5-63c0ddebad5d",
        "outputId": "aa623377-bb9c-4657-9231-793a6e449633"
      },
      "outputs": [
        {
          "name": "stdout",
          "output_type": "stream",
          "text": [
            "Missing values per column:\n",
            "ImageID    0\n",
            "Labels     0\n",
            "Caption    0\n",
            "dtype: int64\n"
          ]
        },
        {
          "data": {
            "image/png": "[encoded data removed]",
            "text/plain": [
              "<Figure size 2000x1000 with 2 Axes>"
            ]
          },
          "metadata": {},
          "output_type": "display_data"
        }
      ],
      "source": [
        "# Load your training data\n",
        "df = read_data(\"COMP5329S1A2Dataset/train.csv\")\n",
        "\n",
        "print(\"Missing values per column:\")\n",
        "print(df.isnull().sum())\n",
        "\n",
        "# Count label frequencies\n",
        "labels = df['Labels'].str.split().explode()\n",
        "label_counts = labels.value_counts().sort_index()\n",
        "\n",
        "# Count words in each caption\n",
        "caption_word_counts = df['Caption'].apply(lambda x: len(x.split()))\n",
        "\n",
        "# Plot\n",
        "plt.figure(figsize=(20, 10))\n",
        "\n",
        "# Label distribution\n",
        "# Label distribution subplot\n",
        "plt.subplot(1, 2, 1)\n",
        "sns.barplot(\n",
        "    x=label_counts.index.astype(int),\n",
        "    y=label_counts.values,\n",
        "    hue=label_counts.index.astype(int),\n",
        "    palette=\"Blues_d\",\n",
        "    dodge=False,\n",
        "    legend=False\n",
        ")\n",
        "\n",
        "plt.title(\"Label Distribution\")\n",
        "plt.xlabel(\"Label\")\n",
        "plt.ylabel(\"Count\")\n",
        "\n",
        "# Caption word count distribution\n",
        "plt.subplot(1, 2, 2)\n",
        "sns.histplot(caption_word_counts, bins=20, kde=True, kde_kws={'bw_method': 0.5}, color='skyblue')\n",
        "plt.title(\"Distribution of Word Count in Captions\")\n",
        "plt.xlabel(\"Word Count\")\n",
        "plt.ylabel(\"Frequency\")\n",
        "\n",
        "plt.tight_layout()\n",
        "plt.savefig(\"data_exploration.png\")\n",
        "plt.show()\n"
      ]
    },
    {
      "cell_type": "markdown",
      "id": "4bf5dacc-6570-4681-864f-c654e861a502",
      "metadata": {
        "id": "4bf5dacc-6570-4681-864f-c654e861a502"
      },
      "source": [
        "# Model Construction"
      ]
    },
    {
      "cell_type": "code",
      "execution_count": null,
      "id": "0297e79e-bff8-48e3-b220-88a0fa9a91d0",
      "metadata": {
        "id": "0297e79e-bff8-48e3-b220-88a0fa9a91d0"
      },
      "outputs": [],
      "source": [
        "from torchvision.models import resnet18, ResNet18_Weights\n",
        "\n",
        "class RESNET18_MINIBERT_2fc_Model(nn.Module):\n",
        "    def __init__(self, num_classes=19, dropout_rate=0.3):\n",
        "        super(RESNET18_MINIBERT_2fc_Model, self).__init__()\n",
        "\n",
        "        # Image encoder: pretrained ResNet18 using updated API\n",
        "        self.resnet = resnet18(weights=ResNet18_Weights.DEFAULT)\n",
        "        resnet_out_dim = self.resnet.fc.in_features\n",
        "        self.resnet.fc = nn.Identity()  # remove classification head\n",
        "\n",
        "        # Text encoder: pretrained BERT-mini\n",
        "        self.bert = BertModel.from_pretrained('prajjwal1/bert-mini')\n",
        "        bert_out_dim = self.bert.config.hidden_size\n",
        "\n",
        "        # Fully connected layers\n",
        "        self.fc1 = nn.Linear(resnet_out_dim + bert_out_dim, 512)\n",
        "        self.dropout = nn.Dropout(dropout_rate)\n",
        "        self.fc2 = nn.Linear(512, num_classes)\n",
        "\n",
        "\n",
        "    def forward(self, images, input_ids, attention_mask):\n",
        "        img_feat = self.resnet(images)\n",
        "        text_feat = self.bert(input_ids=input_ids, attention_mask=attention_mask).last_hidden_state[:, 0, :]\n",
        "        combined = torch.cat((img_feat, text_feat), dim=1)\n",
        "        x = torch.relu(self.fc1(combined))\n",
        "        x = self.dropout(x)\n",
        "        x = self.fc2(x)\n",
        "        return x\n"
      ]
    },
    {
      "cell_type": "markdown",
      "id": "1ae67784-c777-44f3-9d57-26b3872b96be",
      "metadata": {
        "id": "1ae67784-c777-44f3-9d57-26b3872b96be"
      },
      "source": [
        "# Define Loss function and Optimizer"
      ]
    },
    {
      "cell_type": "code",
      "execution_count": null,
      "id": "07be7b63-5131-4d89-9eb1-72dfdbf378ca",
      "metadata": {
        "id": "07be7b63-5131-4d89-9eb1-72dfdbf378ca"
      },
      "outputs": [],
      "source": [
        "# Count the number of positive samples for each class\n",
        "all_labels = train_data['Labels'].str.split().explode().astype(int) - 1  # Convert to 0~18\n",
        "label_counts = all_labels.value_counts().sort_index()\n",
        "label_freq = label_counts.values\n",
        "num_samples = len(train_data)\n",
        "\n",
        "# Calculate pos_weight (negative samples / positive samples)\n",
        "pos_weights = torch.tensor((num_samples - label_freq) / (label_freq + 1e-6), dtype=torch.float32)\n",
        "\n",
        "# Define loss function\n",
        "device = torch.device('cuda' if torch.cuda.is_available() else 'cpu')\n",
        "criterion = nn.BCEWithLogitsLoss(pos_weight=pos_weights.to(device))\n",
        "\n",
        "\n",
        "def get_optimizer(model, optimizer_type='adam', lr_img=1e-4, lr_bert=2e-5, momentum=0.9):\n",
        "    # Set parameter groups for different learning rates\n",
        "    param_groups = [\n",
        "        {\"params\": model.resnet.parameters(), \"lr\": lr_img},\n",
        "        {\"params\": model.bert.parameters(), \"lr\": lr_bert},\n",
        "        {\"params\": model.fc1.parameters(), \"lr\": lr_img},\n",
        "        {\"params\": model.fc2.parameters(), \"lr\": lr_img}\n",
        "    ]\n",
        "    if optimizer_type.lower() == 'adam':\n",
        "        return optim.Adam(param_groups)\n",
        "    elif optimizer_type.lower() == 'sgd':\n",
        "        return optim.SGD(param_groups, momentum=momentum)\n",
        "    else:\n",
        "        raise ValueError(\"Unsupported optimizer type: use 'adam' or 'sgd'\")\n"
      ]
    },
    {
      "cell_type": "markdown",
      "id": "19460b45-d07b-430b-b076-2ee907953a70",
      "metadata": {
        "id": "19460b45-d07b-430b-b076-2ee907953a70"
      },
      "source": [
        "# Define train and validation function"
      ]
    },
    {
      "cell_type": "code",
      "execution_count": null,
      "id": "56158f8d-07e7-4642-8ea3-1c6d84d332ac",
      "metadata": {
        "id": "56158f8d-07e7-4642-8ea3-1c6d84d332ac"
      },
      "outputs": [],
      "source": [
        "def train(model, dataloader, criterion, optimizer, device):\n",
        "    model.train()\n",
        "    model.to(device)\n",
        "    total_loss = 0.0\n",
        "    for images, labels, input_ids, attention_mask in dataloader:\n",
        "        images, labels = images.to(device), labels.to(device)\n",
        "        input_ids, attention_mask = input_ids.to(device), attention_mask.to(device)\n",
        "        optimizer.zero_grad()\n",
        "        outputs = model(images, input_ids, attention_mask)\n",
        "        loss = criterion(outputs, labels)\n",
        "        loss.backward()\n",
        "        optimizer.step()\n",
        "        total_loss += loss.item()\n",
        "    return total_loss / len(dataloader)"
      ]
    },
    {
      "cell_type": "code",
      "execution_count": null,
      "id": "0a357f8a-ac41-4d4f-b583-a376ab282ebb",
      "metadata": {
        "id": "0a357f8a-ac41-4d4f-b583-a376ab282ebb"
      },
      "outputs": [],
      "source": [
        "from sklearn.metrics import f1_score, accuracy_score\n",
        "def validate(model, dataloader, criterion, device, thresholds=None):\n",
        "    model.eval()\n",
        "    model.to(device)\n",
        "    total_loss = 0.0\n",
        "    all_labels, all_probs = [], []\n",
        "    with torch.no_grad():\n",
        "        for images, labels, input_ids, attention_mask in dataloader:\n",
        "            images, labels = images.to(device), labels.to(device)\n",
        "            input_ids, attention_mask = input_ids.to(device), attention_mask.to(device)\n",
        "            outputs = model(images, input_ids, attention_mask)\n",
        "            loss = criterion(outputs, labels)\n",
        "            total_loss += loss.item()\n",
        "            probs = torch.sigmoid(outputs)\n",
        "            all_probs.extend(probs.cpu().numpy())\n",
        "            all_labels.extend(labels.cpu().numpy())\n",
        "\n",
        "    all_labels = np.array(all_labels)\n",
        "    all_probs = np.array(all_probs)\n",
        "\n",
        "    # Dynamic threshold search\n",
        "    if thresholds is None:\n",
        "        thresholds = np.arange(0.2, 0.71, 0.05)\n",
        "\n",
        "    best_f1 = 0\n",
        "    best_thresh = 0.5\n",
        "    best_acc = 0\n",
        "    for thresh in thresholds:\n",
        "        preds = (all_probs > thresh).astype(float)\n",
        "        f1 = f1_score(all_labels, preds, average='macro', zero_division=0)\n",
        "        acc = accuracy_score(all_labels, preds)\n",
        "        if f1 > best_f1:\n",
        "            best_f1 = f1\n",
        "            best_thresh = thresh\n",
        "            best_acc = acc\n",
        "\n",
        "    return total_loss / len(dataloader), best_f1, best_acc, best_thresh"
      ]
    },
    {
      "cell_type": "code",
      "execution_count": null,
      "id": "0661e190-42ee-4c4e-93e8-187a5d96ef3d",
      "metadata": {
        "id": "0661e190-42ee-4c4e-93e8-187a5d96ef3d"
      },
      "outputs": [],
      "source": [
        "def predict(model, dataloader, device, threshold=0.5):\n",
        "    model.eval()\n",
        "    model.to(device)\n",
        "    predictions = []\n",
        "    image_ids = []\n",
        "\n",
        "    with torch.no_grad():\n",
        "        for images, ids, input_ids, attention_mask in dataloader:\n",
        "            images = images.to(device)\n",
        "            input_ids = input_ids.to(device)\n",
        "            attention_mask = attention_mask.to(device)\n",
        "\n",
        "            outputs = model(images, input_ids, attention_mask)\n",
        "            probs = torch.sigmoid(outputs)\n",
        "            preds = (probs > threshold).int().cpu().numpy()\n",
        "            predictions.extend(preds)\n",
        "            image_ids.extend(ids)\n",
        "\n",
        "    return image_ids, predictions\n",
        "\n",
        "def save_predictions(image_ids, predictions, filename=\"Predicted_labels.txt\"):\n",
        "    with open(filename, \"w\") as f:\n",
        "        f.write(\"ImageID,Label\\n\")\n",
        "        for img_id, pred in zip(image_ids, predictions):\n",
        "            labels = \" \".join(str(i + 1) for i, val in enumerate(pred) if val == 1)\n",
        "            f.write(f\"{img_id},{labels}\\n\")\n"
      ]
    },
    {
      "cell_type": "markdown",
      "id": "84610326-e82c-4ae9-8ac3-c5d259db74c4",
      "metadata": {
        "id": "84610326-e82c-4ae9-8ac3-c5d259db74c4"
      },
      "source": [
        "# Hyper Parameter tuning"
      ]
    },
    {
      "cell_type": "code",
      "execution_count": null,
      "id": "043ebde3-bb7f-4ae4-ad69-64a446be8bb6",
      "metadata": {
        "id": "043ebde3-bb7f-4ae4-ad69-64a446be8bb6",
        "outputId": "b345dfb8-3939-49cf-beee-59201a06af4d"
      },
      "outputs": [
        {
          "name": "stdout",
          "output_type": "stream",
          "text": [
            "We are using CPU.\n"
          ]
        }
      ],
      "source": [
        "use_cuda = True if torch.cuda.is_available() else False\n",
        "device = torch.device(\"cuda\" if torch.cuda.is_available() else \"cpu\")\n",
        "print('We are using GPU.' if use_cuda else 'We are using CPU.')"
      ]
    },
    {
      "cell_type": "code",
      "execution_count": null,
      "id": "2b272435-dd45-47e1-a452-ad9fe32af4ff",
      "metadata": {
        "id": "2b272435-dd45-47e1-a452-ad9fe32af4ff",
        "outputId": "8f96e5a4-11b6-494c-ed28-64b43b46ece5"
      },
      "outputs": [
        {
          "name": "stdout",
          "output_type": "stream",
          "text": [
            "Training data size: (23996, 3)\n",
            "Validation data size: (6000, 3)\n",
            "pos_weight shape: torch.Size([19])\n"
          ]
        }
      ],
      "source": [
        "# Use all training and validation data\n",
        "train_data = train_data.reset_index(drop=True)\n",
        "valid_data = valid_data.reset_index(drop=True)\n",
        "\n",
        "print(\"Training data size:\", train_data.shape)\n",
        "print(\"Validation data size:\", valid_data.shape)\n",
        "\n",
        "train_dataset = TrainImageDataset(\n",
        "    data=train_data,\n",
        "    img_dir=\"COMP5329S1A2Dataset/data\",\n",
        "    tokenizer=tokenizer,\n",
        "    transform=train_transform\n",
        ")\n",
        "\n",
        "valid_dataset = TrainImageDataset(\n",
        "    data=valid_data,\n",
        "    img_dir=\"COMP5329S1A2Dataset/data\",\n",
        "    tokenizer=tokenizer,\n",
        "    transform=valid_transform\n",
        ")\n",
        "\n",
        "train_loader = DataLoader(train_dataset, batch_size=64, shuffle=True, num_workers=0)\n",
        "valid_loader = DataLoader(valid_dataset, batch_size=64, shuffle=False, num_workers=0)\n",
        "\n",
        "# Calculate pos_weight based on the full training data\n",
        "full_index = pd.Index(range(1, 20))\n",
        "label_counts = train_data['Labels'].str.split().explode().astype(int).value_counts().reindex(full_index, fill_value=1)\n",
        "total = label_counts.sum()\n",
        "pos_weight = (total - label_counts) / label_counts\n",
        "pos_weight = torch.tensor(pos_weight.values, dtype=torch.float32).to(device)\n",
        "\n",
        "print(\"pos_weight shape:\", pos_weight.shape)"
      ]
    },
    {
      "cell_type": "code",
      "execution_count": null,
      "id": "6edef6ab-920b-4f4e-bafe-7569dfaa60e6",
      "metadata": {
        "id": "6edef6ab-920b-4f4e-bafe-7569dfaa60e6",
        "outputId": "5bfff892-3f2c-4dcd-a42a-3bf7e3c9979d"
      },
      "outputs": [
        {
          "name": "stdout",
          "output_type": "stream",
          "text": [
            "\n",
            "-----------------------------\n",
            "Testing optimizer=adam, lr=0.000020, dropout=0.1\n",
            "Model created.\n",
            "Epoch 1/6\n"
          ]
        },
        {
          "ename": "KeyboardInterrupt",
          "evalue": "",
          "output_type": "error",
          "traceback": [
            "\u001b[1;31m---------------------------------------------------------------------------\u001b[0m",
            "\u001b[1;31mKeyboardInterrupt\u001b[0m                         Traceback (most recent call last)",
            "Cell \u001b[1;32mIn[63], line 43\u001b[0m\n\u001b[0;32m     40\u001b[0m \u001b[38;5;28mprint\u001b[39m(\u001b[38;5;124mf\u001b[39m\u001b[38;5;124m\"\u001b[39m\u001b[38;5;124mEpoch \u001b[39m\u001b[38;5;132;01m{\u001b[39;00mepoch\u001b[38;5;250m \u001b[39m\u001b[38;5;241m+\u001b[39m\u001b[38;5;250m \u001b[39m\u001b[38;5;241m1\u001b[39m\u001b[38;5;132;01m}\u001b[39;00m\u001b[38;5;124m/\u001b[39m\u001b[38;5;132;01m{\u001b[39;00mnum_epochs\u001b[38;5;132;01m}\u001b[39;00m\u001b[38;5;124m\"\u001b[39m)\n\u001b[0;32m     42\u001b[0m epoch_start \u001b[38;5;241m=\u001b[39m time\u001b[38;5;241m.\u001b[39mtime()\n\u001b[1;32m---> 43\u001b[0m train_loss \u001b[38;5;241m=\u001b[39m train(model, train_loader, criterion, optimizer, device)  \u001b[38;5;66;03m# 已改\u001b[39;00m\n\u001b[0;32m     44\u001b[0m epoch_train_time \u001b[38;5;241m=\u001b[39m time\u001b[38;5;241m.\u001b[39mtime() \u001b[38;5;241m-\u001b[39m epoch_start\n\u001b[0;32m     45\u001b[0m \u001b[38;5;28mprint\u001b[39m(\u001b[38;5;124mf\u001b[39m\u001b[38;5;124m\"\u001b[39m\u001b[38;5;124mTrain Loss: \u001b[39m\u001b[38;5;132;01m{\u001b[39;00mtrain_loss\u001b[38;5;132;01m:\u001b[39;00m\u001b[38;5;124m.4f\u001b[39m\u001b[38;5;132;01m}\u001b[39;00m\u001b[38;5;124m | Time: \u001b[39m\u001b[38;5;132;01m{\u001b[39;00mepoch_train_time\u001b[38;5;132;01m:\u001b[39;00m\u001b[38;5;124m.2f\u001b[39m\u001b[38;5;132;01m}\u001b[39;00m\u001b[38;5;124ms\u001b[39m\u001b[38;5;124m\"\u001b[39m)\n",
            "Cell \u001b[1;32mIn[31], line 5\u001b[0m, in \u001b[0;36mtrain\u001b[1;34m(model, dataloader, criterion, optimizer, device)\u001b[0m\n\u001b[0;32m      3\u001b[0m model\u001b[38;5;241m.\u001b[39mto(device)\n\u001b[0;32m      4\u001b[0m total_loss \u001b[38;5;241m=\u001b[39m \u001b[38;5;241m0.0\u001b[39m\n\u001b[1;32m----> 5\u001b[0m \u001b[38;5;28;01mfor\u001b[39;00m images, labels, input_ids, attention_mask \u001b[38;5;129;01min\u001b[39;00m dataloader:\n\u001b[0;32m      6\u001b[0m     images, labels \u001b[38;5;241m=\u001b[39m images\u001b[38;5;241m.\u001b[39mto(device), labels\u001b[38;5;241m.\u001b[39mto(device)\n\u001b[0;32m      7\u001b[0m     input_ids, attention_mask \u001b[38;5;241m=\u001b[39m input_ids\u001b[38;5;241m.\u001b[39mto(device), attention_mask\u001b[38;5;241m.\u001b[39mto(device)\n",
            "File \u001b[1;32m~\\anaconda3\\Lib\\site-packages\\torch\\utils\\data\\dataloader.py:733\u001b[0m, in \u001b[0;36m_BaseDataLoaderIter.__next__\u001b[1;34m(self)\u001b[0m\n\u001b[0;32m    730\u001b[0m \u001b[38;5;28;01mif\u001b[39;00m \u001b[38;5;28mself\u001b[39m\u001b[38;5;241m.\u001b[39m_sampler_iter \u001b[38;5;129;01mis\u001b[39;00m \u001b[38;5;28;01mNone\u001b[39;00m:\n\u001b[0;32m    731\u001b[0m     \u001b[38;5;66;03m# TODO(https://github.com/pytorch/pytorch/issues/76750)\u001b[39;00m\n\u001b[0;32m    732\u001b[0m     \u001b[38;5;28mself\u001b[39m\u001b[38;5;241m.\u001b[39m_reset()  \u001b[38;5;66;03m# type: ignore[call-arg]\u001b[39;00m\n\u001b[1;32m--> 733\u001b[0m data \u001b[38;5;241m=\u001b[39m \u001b[38;5;28mself\u001b[39m\u001b[38;5;241m.\u001b[39m_next_data()\n\u001b[0;32m    734\u001b[0m \u001b[38;5;28mself\u001b[39m\u001b[38;5;241m.\u001b[39m_num_yielded \u001b[38;5;241m+\u001b[39m\u001b[38;5;241m=\u001b[39m \u001b[38;5;241m1\u001b[39m\n\u001b[0;32m    735\u001b[0m \u001b[38;5;28;01mif\u001b[39;00m (\n\u001b[0;32m    736\u001b[0m     \u001b[38;5;28mself\u001b[39m\u001b[38;5;241m.\u001b[39m_dataset_kind \u001b[38;5;241m==\u001b[39m _DatasetKind\u001b[38;5;241m.\u001b[39mIterable\n\u001b[0;32m    737\u001b[0m     \u001b[38;5;129;01mand\u001b[39;00m \u001b[38;5;28mself\u001b[39m\u001b[38;5;241m.\u001b[39m_IterableDataset_len_called \u001b[38;5;129;01mis\u001b[39;00m \u001b[38;5;129;01mnot\u001b[39;00m \u001b[38;5;28;01mNone\u001b[39;00m\n\u001b[0;32m    738\u001b[0m     \u001b[38;5;129;01mand\u001b[39;00m \u001b[38;5;28mself\u001b[39m\u001b[38;5;241m.\u001b[39m_num_yielded \u001b[38;5;241m>\u001b[39m \u001b[38;5;28mself\u001b[39m\u001b[38;5;241m.\u001b[39m_IterableDataset_len_called\n\u001b[0;32m    739\u001b[0m ):\n",
            "File \u001b[1;32m~\\anaconda3\\Lib\\site-packages\\torch\\utils\\data\\dataloader.py:789\u001b[0m, in \u001b[0;36m_SingleProcessDataLoaderIter._next_data\u001b[1;34m(self)\u001b[0m\n\u001b[0;32m    787\u001b[0m \u001b[38;5;28;01mdef\u001b[39;00m \u001b[38;5;21m_next_data\u001b[39m(\u001b[38;5;28mself\u001b[39m):\n\u001b[0;32m    788\u001b[0m     index \u001b[38;5;241m=\u001b[39m \u001b[38;5;28mself\u001b[39m\u001b[38;5;241m.\u001b[39m_next_index()  \u001b[38;5;66;03m# may raise StopIteration\u001b[39;00m\n\u001b[1;32m--> 789\u001b[0m     data \u001b[38;5;241m=\u001b[39m \u001b[38;5;28mself\u001b[39m\u001b[38;5;241m.\u001b[39m_dataset_fetcher\u001b[38;5;241m.\u001b[39mfetch(index)  \u001b[38;5;66;03m# may raise StopIteration\u001b[39;00m\n\u001b[0;32m    790\u001b[0m     \u001b[38;5;28;01mif\u001b[39;00m \u001b[38;5;28mself\u001b[39m\u001b[38;5;241m.\u001b[39m_pin_memory:\n\u001b[0;32m    791\u001b[0m         data \u001b[38;5;241m=\u001b[39m _utils\u001b[38;5;241m.\u001b[39mpin_memory\u001b[38;5;241m.\u001b[39mpin_memory(data, \u001b[38;5;28mself\u001b[39m\u001b[38;5;241m.\u001b[39m_pin_memory_device)\n",
            "File \u001b[1;32m~\\anaconda3\\Lib\\site-packages\\torch\\utils\\data\\_utils\\fetch.py:52\u001b[0m, in \u001b[0;36m_MapDatasetFetcher.fetch\u001b[1;34m(self, possibly_batched_index)\u001b[0m\n\u001b[0;32m     50\u001b[0m         data \u001b[38;5;241m=\u001b[39m \u001b[38;5;28mself\u001b[39m\u001b[38;5;241m.\u001b[39mdataset\u001b[38;5;241m.\u001b[39m__getitems__(possibly_batched_index)\n\u001b[0;32m     51\u001b[0m     \u001b[38;5;28;01melse\u001b[39;00m:\n\u001b[1;32m---> 52\u001b[0m         data \u001b[38;5;241m=\u001b[39m [\u001b[38;5;28mself\u001b[39m\u001b[38;5;241m.\u001b[39mdataset[idx] \u001b[38;5;28;01mfor\u001b[39;00m idx \u001b[38;5;129;01min\u001b[39;00m possibly_batched_index]\n\u001b[0;32m     53\u001b[0m \u001b[38;5;28;01melse\u001b[39;00m:\n\u001b[0;32m     54\u001b[0m     data \u001b[38;5;241m=\u001b[39m \u001b[38;5;28mself\u001b[39m\u001b[38;5;241m.\u001b[39mdataset[possibly_batched_index]\n",
            "Cell \u001b[1;32mIn[5], line 18\u001b[0m, in \u001b[0;36mTrainImageDataset.__getitem__\u001b[1;34m(self, idx)\u001b[0m\n\u001b[0;32m     16\u001b[0m img_name \u001b[38;5;241m=\u001b[39m \u001b[38;5;28mself\u001b[39m\u001b[38;5;241m.\u001b[39mdata_frame\u001b[38;5;241m.\u001b[39miloc[idx][\u001b[38;5;124m'\u001b[39m\u001b[38;5;124mImageID\u001b[39m\u001b[38;5;124m'\u001b[39m]\n\u001b[0;32m     17\u001b[0m img_path \u001b[38;5;241m=\u001b[39m os\u001b[38;5;241m.\u001b[39mpath\u001b[38;5;241m.\u001b[39mjoin(\u001b[38;5;28mself\u001b[39m\u001b[38;5;241m.\u001b[39mimg_dir, img_name)\n\u001b[1;32m---> 18\u001b[0m image \u001b[38;5;241m=\u001b[39m Image\u001b[38;5;241m.\u001b[39mopen(img_path)\u001b[38;5;241m.\u001b[39mconvert(\u001b[38;5;124m'\u001b[39m\u001b[38;5;124mRGB\u001b[39m\u001b[38;5;124m'\u001b[39m)\n\u001b[0;32m     20\u001b[0m label_str \u001b[38;5;241m=\u001b[39m \u001b[38;5;28mself\u001b[39m\u001b[38;5;241m.\u001b[39mdata_frame\u001b[38;5;241m.\u001b[39miloc[idx][\u001b[38;5;124m'\u001b[39m\u001b[38;5;124mLabels\u001b[39m\u001b[38;5;124m'\u001b[39m]\n\u001b[0;32m     21\u001b[0m label_ids \u001b[38;5;241m=\u001b[39m [\u001b[38;5;28mint\u001b[39m(x) \u001b[38;5;28;01mfor\u001b[39;00m x \u001b[38;5;129;01min\u001b[39;00m label_str\u001b[38;5;241m.\u001b[39msplit()]\n",
            "File \u001b[1;32m~\\anaconda3\\Lib\\site-packages\\PIL\\Image.py:3431\u001b[0m, in \u001b[0;36mopen\u001b[1;34m(fp, mode, formats)\u001b[0m\n\u001b[0;32m   3428\u001b[0m     filename \u001b[38;5;241m=\u001b[39m os\u001b[38;5;241m.\u001b[39mpath\u001b[38;5;241m.\u001b[39mrealpath(os\u001b[38;5;241m.\u001b[39mfspath(fp))\n\u001b[0;32m   3430\u001b[0m \u001b[38;5;28;01mif\u001b[39;00m filename:\n\u001b[1;32m-> 3431\u001b[0m     fp \u001b[38;5;241m=\u001b[39m builtins\u001b[38;5;241m.\u001b[39mopen(filename, \u001b[38;5;124m\"\u001b[39m\u001b[38;5;124mrb\u001b[39m\u001b[38;5;124m\"\u001b[39m)\n\u001b[0;32m   3432\u001b[0m     exclusive_fp \u001b[38;5;241m=\u001b[39m \u001b[38;5;28;01mTrue\u001b[39;00m\n\u001b[0;32m   3433\u001b[0m \u001b[38;5;28;01melse\u001b[39;00m:\n",
            "\u001b[1;31mKeyboardInterrupt\u001b[0m: "
          ]
        }
      ],
      "source": [
        "import os\n",
        "import time\n",
        "import matplotlib.pyplot as plt\n",
        "\n",
        "torch.cuda.empty_cache()\n",
        "\n",
        "criterion = nn.BCEWithLogitsLoss(pos_weight=pos_weight)\n",
        "num_epochs = 6\n",
        "\n",
        "learning_rates = [2e-5, 1e-5]   # Or your own range\n",
        "dropout_rates = [0.1, 0.3]\n",
        "optimizers = ['adam']\n",
        "\n",
        "results = {}\n",
        "best_f1 = 0\n",
        "best_params = {}\n",
        "\n",
        "total_start = time.time()\n",
        "\n",
        "for opt in optimizers:\n",
        "    for lr in learning_rates:\n",
        "        for dr in dropout_rates:\n",
        "            key = f\"{opt}_lr{lr:.6f}_dr{dr}\"\n",
        "            results[key] = {'f1': [], 'accuracy': [], 'loss': []}\n",
        "            print(f\"\\n-----------------------------\")\n",
        "            print(f\"Testing optimizer={opt}, lr={lr:.6f}, dropout={dr}\")\n",
        "\n",
        "            model = RESNET18_MINIBERT_2fc_Model(num_classes=19, dropout_rate=dr).to(device)\n",
        "            print(\"Model created.\")\n",
        "\n",
        "            optimizer = optim.Adam([\n",
        "                {\"params\": model.resnet.parameters(), \"lr\": lr},\n",
        "                {\"params\": model.fc1.parameters(), \"lr\": lr},\n",
        "                {\"params\": model.fc2.parameters(), \"lr\": lr},\n",
        "                {\"params\": model.bert.parameters(), \"lr\": lr}\n",
        "            ])\n",
        "\n",
        "            combo_start = time.time()\n",
        "            for epoch in range(num_epochs):\n",
        "                print(f\"Epoch {epoch + 1}/{num_epochs}\")\n",
        "\n",
        "                epoch_start = time.time()\n",
        "                train_loss = train(model, train_loader, criterion, optimizer, device)  # 已改\n",
        "                epoch_train_time = time.time() - epoch_start\n",
        "                print(f\"Train Loss: {train_loss:.4f} | Time: {epoch_train_time:.2f}s\")\n",
        "\n",
        "                val_start = time.time()\n",
        "                valid_loss, valid_f1, valid_acc, best_thresh = validate(model, valid_loader, criterion, device)  # 已改\n",
        "                print(f\"Val Loss: {valid_loss:.4f}, F1: {valid_f1:.4f}, Acc: {valid_acc:.4f}, Best Thresh: {best_thresh:.2f} | Time: {time.time() - val_start:.2f}s\")\n",
        "\n",
        "                results[key]['f1'].append(valid_f1)\n",
        "                results[key]['accuracy'].append(valid_acc)\n",
        "                results[key]['loss'].append(valid_loss)\n",
        "\n",
        "                if valid_f1 > best_f1:\n",
        "                    best_f1 = valid_f1\n",
        "                    best_params = {\n",
        "                        'optimizer': opt,\n",
        "                        'lr': lr,\n",
        "                        'dropout_rate': dr,\n",
        "                        'epoch': epoch + 1\n",
        "                    }\n",
        "                    torch.save(model.state_dict(), \"para_model.pth\")\n",
        "\n",
        "            combo_end = time.time()\n",
        "            print(f\"Combination {key} finished in {combo_end - combo_start:.2f}s\")\n",
        "\n",
        "total_end = time.time()\n",
        "print(f\"\\n Total tuning time: {total_end - total_start:.2f}s\")\n",
        "print(f\"Best parameters found -- Optimizer: {best_params['optimizer']}, \"\n",
        "      f\"Learning Rate: {best_params['lr']:.6f}, Dropout Rate: {best_params['dropout_rate']}, \"\n",
        "      f\"Epoch: {best_params['epoch']}, Best F1 Score: {best_f1:.4f}\")\n",
        "\n",
        "model_size = os.path.getsize(\"para_model.pth\") / (1024 * 1024)\n",
        "print(f\"Saved model size: {model_size:.2f} MB\")"
      ]
    },
    {
      "cell_type": "code",
      "execution_count": null,
      "id": "684174af-9126-487b-a90e-0ccac6f69be7",
      "metadata": {
        "id": "684174af-9126-487b-a90e-0ccac6f69be7"
      },
      "outputs": [],
      "source": [
        "# 📊 Plotting\n",
        "metrics = ['f1', 'loss']\n",
        "fig, axs = plt.subplots(1, 2, figsize=(14, 5))\n",
        "axs = axs.flatten()\n",
        "\n",
        "for i, metric in enumerate(metrics):\n",
        "    for key, values in results.items():\n",
        "        axs[i].plot(range(1, len(values[metric]) + 1), values[metric], marker='o', label=key)\n",
        "    axs[i].set_title(f\"{metric.upper()} over Epochs\")\n",
        "    axs[i].set_xlabel(\"Epoch\")\n",
        "    axs[i].set_ylabel(metric.upper())\n",
        "    axs[i].legend()\n",
        "\n",
        "plt.tight_layout()\n",
        "plt.savefig(\"hyperparam_f1_loss.png\")\n",
        "plt.show()\n",
        "\n",
        "model_size = os.path.getsize(\"para_model.pth\") / (1024 * 1024)\n",
        "print(f\"\\n Saved model size: {model_size:.2f} MB\")\n",
        "\n",
        "print(\"\\n Best parameters to reuse for ablation:\")\n",
        "print(f\"best_params = {{\")\n",
        "print(f\"    'optimizer': '{best_params['optimizer']}',\")\n",
        "print(f\"    'lr': {best_params['lr']},\")\n",
        "print(f\"    'dropout_rate': {best_params['dropout_rate']},\")\n",
        "print(f\"    'epoch': {best_params['epoch']}\")\n",
        "print(f\"}}\")\n"
      ]
    },
    {
      "cell_type": "markdown",
      "id": "02df8bbd-8154-4d0d-ac51-2e40bd9fdd9b",
      "metadata": {
        "id": "02df8bbd-8154-4d0d-ac51-2e40bd9fdd9b"
      },
      "source": [
        "# Ablation studies"
      ]
    },
    {
      "cell_type": "code",
      "execution_count": null,
      "id": "2354a4a2-29ba-4626-b702-7301c712f6f0",
      "metadata": {
        "id": "2354a4a2-29ba-4626-b702-7301c712f6f0"
      },
      "outputs": [],
      "source": [
        "import torch.nn as nn\n",
        "from torchvision.models import resnet18, ResNet18_Weights\n",
        "\n",
        "# ResNet-only model (no caption input)\n",
        "class RESNET18_ONLY_Model(nn.Module):\n",
        "    def __init__(self, num_classes=19, dropout_rate=0.1):\n",
        "        super(RESNET18_ONLY_Model, self).__init__()\n",
        "        self.resnet = resnet18(weights=ResNet18_Weights.DEFAULT)\n",
        "        num_features = self.resnet.fc.in_features\n",
        "        self.resnet.fc = nn.Identity()  # remove classification head\n",
        "\n",
        "        self.classifier = nn.Sequential(\n",
        "            nn.Linear(num_features, 512),\n",
        "            nn.ReLU(),\n",
        "            nn.Dropout(dropout_rate),\n",
        "            nn.Linear(512, num_classes)\n",
        "        )\n",
        "\n",
        "    def forward(self, image):\n",
        "        features = self.resnet(image)\n",
        "        return self.classifier(features)"
      ]
    },
    {
      "cell_type": "code",
      "execution_count": null,
      "id": "3a737722-25dc-40a6-b4b9-efb480533872",
      "metadata": {
        "id": "3a737722-25dc-40a6-b4b9-efb480533872"
      },
      "outputs": [],
      "source": [
        "from torch.utils.data import Dataset\n",
        "from PIL import Image\n",
        "import torch\n",
        "import os\n",
        "\n",
        "# Dataset without caption\n",
        "class ResNetOnlyTrainDataset(Dataset):\n",
        "    def __init__(self, data, img_dir, transform=None):\n",
        "        self.data_frame = data\n",
        "        self.img_dir = img_dir\n",
        "        self.transform = transform\n",
        "\n",
        "    def __len__(self):\n",
        "        return len(self.data_frame)\n",
        "\n",
        "    def __getitem__(self, idx):\n",
        "        img_name = self.data_frame.iloc[idx]['ImageID']\n",
        "        img_path = os.path.join(self.img_dir, img_name)\n",
        "        image = Image.open(img_path).convert('RGB')\n",
        "\n",
        "        if self.transform:\n",
        "            image = self.transform(image)\n",
        "\n",
        "        label_str = self.data_frame.iloc[idx]['Labels']\n",
        "        label_ids = [int(x) for x in label_str.split()]\n",
        "        label_tensor = torch.zeros(19, dtype=torch.float32)\n",
        "        for l in label_ids:\n",
        "            if 1 <= l <= 19:\n",
        "                label_tensor[l - 1] = 1\n",
        "\n",
        "        return image, label_tensor\n"
      ]
    },
    {
      "cell_type": "code",
      "execution_count": null,
      "id": "5b8f0bb4-4c29-4aab-8e2e-dbeaf296eab3",
      "metadata": {
        "id": "5b8f0bb4-4c29-4aab-8e2e-dbeaf296eab3"
      },
      "outputs": [],
      "source": [
        "def train_resnet_only(model, dataloader, criterion, optimizer, device):\n",
        "    model.train()\n",
        "    model.to(device)\n",
        "    total_loss = 0.0\n",
        "\n",
        "    for images, labels in dataloader:\n",
        "        images, labels = images.to(device), labels.to(device)\n",
        "\n",
        "        optimizer.zero_grad()\n",
        "        outputs = model(images)\n",
        "        loss = criterion(outputs, labels)\n",
        "        loss.backward()\n",
        "        optimizer.step()\n",
        "\n",
        "        total_loss += loss.item()\n",
        "\n",
        "    return total_loss / len(dataloader)\n",
        "\n",
        "\n",
        "from sklearn.metrics import f1_score, accuracy_score\n",
        "\n",
        "def validate_resnet_only(model, dataloader, criterion, device, threshold=0.5):\n",
        "    model.eval()\n",
        "    model.to(device)\n",
        "    total_loss = 0.0\n",
        "    all_labels, all_preds = [], []\n",
        "\n",
        "    with torch.no_grad():\n",
        "        for images, labels in dataloader:\n",
        "            images, labels = images.to(device), labels.to(device)\n",
        "\n",
        "            outputs = model(images)\n",
        "            loss = criterion(outputs, labels)\n",
        "            total_loss += loss.item()\n",
        "\n",
        "            probs = torch.sigmoid(outputs)\n",
        "            preds = (probs > threshold).float().cpu().numpy()\n",
        "            all_preds.extend(preds)\n",
        "            all_labels.extend(labels.cpu().numpy())\n",
        "\n",
        "    f1 = f1_score(all_labels, all_preds, average='macro', zero_division=0)\n",
        "    acc = accuracy_score(all_labels, all_preds)\n",
        "    return total_loss / len(dataloader), f1, acc\n",
        "\n",
        "# Define transforms for ablation\n",
        "train_transform = transforms.Compose([\n",
        "    transforms.Resize((224, 224)),\n",
        "    transforms.RandomHorizontalFlip(),\n",
        "    transforms.ToTensor(),\n",
        "    transforms.Normalize([0.485, 0.456, 0.406], [0.229, 0.224, 0.225])\n",
        "])\n",
        "\n",
        "val_transform = transforms.Compose([\n",
        "    transforms.Resize((224, 224)),\n",
        "    transforms.ToTensor(),\n",
        "    transforms.Normalize([0.485, 0.456, 0.406], [0.229, 0.224, 0.225])\n",
        "])\n"
      ]
    },
    {
      "cell_type": "code",
      "execution_count": null,
      "id": "5a3080f4-08f7-41d0-99ba-b7592dd16937",
      "metadata": {
        "id": "5a3080f4-08f7-41d0-99ba-b7592dd16937",
        "outputId": "683aedd1-208a-4c6a-8c57-c7e31acc9c5c"
      },
      "outputs": [
        {
          "name": "stdout",
          "output_type": "stream",
          "text": [
            "Epoch 1/6\n",
            "Train Loss: 0.1737 | Time: 357.61s\n"
          ]
        },
        {
          "name": "stderr",
          "output_type": "stream",
          "text": [
            "C:\\Users\\16023\\anaconda3\\Lib\\site-packages\\sklearn\\metrics\\_classification.py:1531: UndefinedMetricWarning: F-score is ill-defined and being set to 0.0 in labels with no true nor predicted samples. Use `zero_division` parameter to control this behavior.\n",
            "  _warn_prf(average, modifier, f\"{metric.capitalize()} is\", len(result))\n"
          ]
        },
        {
          "name": "stdout",
          "output_type": "stream",
          "text": [
            "Val Loss: 0.1201, F1: 0.3423, Acc: 0.5078 | Time: 34.24s\n",
            "Epoch 2/6\n",
            "Train Loss: 0.1031 | Time: 358.33s\n"
          ]
        },
        {
          "name": "stderr",
          "output_type": "stream",
          "text": [
            "C:\\Users\\16023\\anaconda3\\Lib\\site-packages\\sklearn\\metrics\\_classification.py:1531: UndefinedMetricWarning: F-score is ill-defined and being set to 0.0 in labels with no true nor predicted samples. Use `zero_division` parameter to control this behavior.\n",
            "  _warn_prf(average, modifier, f\"{metric.capitalize()} is\", len(result))\n"
          ]
        },
        {
          "name": "stdout",
          "output_type": "stream",
          "text": [
            "Val Loss: 0.1077, F1: 0.4773, Acc: 0.5467 | Time: 36.35s\n",
            "Epoch 3/6\n",
            "Train Loss: 0.0790 | Time: 353.82s\n"
          ]
        },
        {
          "name": "stderr",
          "output_type": "stream",
          "text": [
            "C:\\Users\\16023\\anaconda3\\Lib\\site-packages\\sklearn\\metrics\\_classification.py:1531: UndefinedMetricWarning: F-score is ill-defined and being set to 0.0 in labels with no true nor predicted samples. Use `zero_division` parameter to control this behavior.\n",
            "  _warn_prf(average, modifier, f\"{metric.capitalize()} is\", len(result))\n"
          ]
        },
        {
          "name": "stdout",
          "output_type": "stream",
          "text": [
            "Val Loss: 0.1104, F1: 0.5009, Acc: 0.5561 | Time: 36.45s\n",
            "Epoch 4/6\n",
            "Train Loss: 0.0598 | Time: 357.08s\n"
          ]
        },
        {
          "name": "stderr",
          "output_type": "stream",
          "text": [
            "C:\\Users\\16023\\anaconda3\\Lib\\site-packages\\sklearn\\metrics\\_classification.py:1531: UndefinedMetricWarning: F-score is ill-defined and being set to 0.0 in labels with no true nor predicted samples. Use `zero_division` parameter to control this behavior.\n",
            "  _warn_prf(average, modifier, f\"{metric.capitalize()} is\", len(result))\n"
          ]
        },
        {
          "name": "stdout",
          "output_type": "stream",
          "text": [
            "Val Loss: 0.1126, F1: 0.5438, Acc: 0.5583 | Time: 35.36s\n",
            "Epoch 5/6\n",
            "Train Loss: 0.0434 | Time: 355.09s\n"
          ]
        },
        {
          "name": "stderr",
          "output_type": "stream",
          "text": [
            "C:\\Users\\16023\\anaconda3\\Lib\\site-packages\\sklearn\\metrics\\_classification.py:1531: UndefinedMetricWarning: F-score is ill-defined and being set to 0.0 in labels with no true nor predicted samples. Use `zero_division` parameter to control this behavior.\n",
            "  _warn_prf(average, modifier, f\"{metric.capitalize()} is\", len(result))\n"
          ]
        },
        {
          "name": "stdout",
          "output_type": "stream",
          "text": [
            "Val Loss: 0.1236, F1: 0.5079, Acc: 0.5356 | Time: 35.88s\n",
            "Epoch 6/6\n",
            "Train Loss: 0.0305 | Time: 357.69s\n",
            "Val Loss: 0.1302, F1: 0.5328, Acc: 0.5489 | Time: 36.21s\n"
          ]
        },
        {
          "name": "stderr",
          "output_type": "stream",
          "text": [
            "C:\\Users\\16023\\anaconda3\\Lib\\site-packages\\sklearn\\metrics\\_classification.py:1531: UndefinedMetricWarning: F-score is ill-defined and being set to 0.0 in labels with no true nor predicted samples. Use `zero_division` parameter to control this behavior.\n",
            "  _warn_prf(average, modifier, f\"{metric.capitalize()} is\", len(result))\n"
          ]
        }
      ],
      "source": [
        "# Define dataset and dataloader\n",
        "resnet_only_train_dataset = ResNetOnlyTrainDataset(sub_train_data, img_dir=\"COMP5329S1A2Dataset/data\", transform=train_transform)\n",
        "resnet_only_valid_dataset = ResNetOnlyTrainDataset(sub_valid_data, img_dir=\"COMP5329S1A2Dataset/data\", transform=val_transform)\n",
        "\n",
        "resnet_only_train_loader = DataLoader(resnet_only_train_dataset, batch_size=32, shuffle=True)\n",
        "resnet_only_valid_loader = DataLoader(resnet_only_valid_dataset, batch_size=32, shuffle=False)\n",
        "\n",
        "# Initialize model\n",
        "model = RESNET18_ONLY_Model(num_classes=19, dropout_rate=best_params['dropout_rate']).to(device)\n",
        "optimizer = get_optimizer(model, optimizer_type='adam', lr=best_params['lr'])\n",
        "criterion = nn.BCEWithLogitsLoss()\n",
        "num_epochs = 6\n",
        "\n",
        "# Train & validate with timing and formatted output\n",
        "for epoch in range(num_epochs):\n",
        "    print(f\"Epoch {epoch + 1}/{num_epochs}\")\n",
        "\n",
        "    start_train = time.time()\n",
        "    train_loss = train_resnet_only(model, resnet_only_train_loader, criterion, optimizer, device)\n",
        "    train_time = time.time() - start_train\n",
        "    print(f\"Train Loss: {train_loss:.4f} | Time: {train_time:.2f}s\")\n",
        "\n",
        "    start_val = time.time()\n",
        "    val_loss, val_f1, val_acc = validate_resnet_only(model, resnet_only_valid_loader, criterion, device)\n",
        "    val_time = time.time() - start_val\n",
        "    print(f\"Val Loss: {val_loss:.4f}, F1: {val_f1:.4f}, Acc: {val_acc:.4f} | Time: {val_time:.2f}s\")\n",
        "\n",
        "    if val_f1 > best_f1:\n",
        "        best_f1 = val_f1\n",
        "        torch.save(model.state_dict(), \"resnet_only_model.pth\")"
      ]
    },
    {
      "cell_type": "code",
      "execution_count": null,
      "id": "b693765b-8a57-4356-b4cc-b1758ddddae0",
      "metadata": {
        "id": "b693765b-8a57-4356-b4cc-b1758ddddae0",
        "outputId": "9b67705c-fa56-47c0-c239-e03630162902"
      },
      "outputs": [
        {
          "ename": "FileNotFoundError",
          "evalue": "[Errno 2] No such file or directory: 'resnet_only_model.pth'",
          "output_type": "error",
          "traceback": [
            "\u001b[1;31m---------------------------------------------------------------------------\u001b[0m",
            "\u001b[1;31mFileNotFoundError\u001b[0m                         Traceback (most recent call last)",
            "Cell \u001b[1;32mIn[127], line 20\u001b[0m\n\u001b[0;32m     18\u001b[0m \u001b[38;5;66;03m# --- Load and run ResNet-only model ---\u001b[39;00m\n\u001b[0;32m     19\u001b[0m model_resnet \u001b[38;5;241m=\u001b[39m RESNET18_ONLY_Model(num_classes\u001b[38;5;241m=\u001b[39m\u001b[38;5;241m19\u001b[39m)\n\u001b[1;32m---> 20\u001b[0m model_resnet\u001b[38;5;241m.\u001b[39mload_state_dict(torch\u001b[38;5;241m.\u001b[39mload(\u001b[38;5;124m\"\u001b[39m\u001b[38;5;124mresnet_only_model.pth\u001b[39m\u001b[38;5;124m\"\u001b[39m, map_location\u001b[38;5;241m=\u001b[39mdevice))\n\u001b[0;32m     21\u001b[0m model_resnet\u001b[38;5;241m.\u001b[39mto(device)\n\u001b[0;32m     22\u001b[0m model_resnet\u001b[38;5;241m.\u001b[39meval()\n",
            "File \u001b[1;32m~\\anaconda3\\Lib\\site-packages\\torch\\serialization.py:1479\u001b[0m, in \u001b[0;36mload\u001b[1;34m(f, map_location, pickle_module, weights_only, mmap, **pickle_load_args)\u001b[0m\n\u001b[0;32m   1476\u001b[0m \u001b[38;5;28;01mif\u001b[39;00m \u001b[38;5;124m\"\u001b[39m\u001b[38;5;124mencoding\u001b[39m\u001b[38;5;124m\"\u001b[39m \u001b[38;5;129;01mnot\u001b[39;00m \u001b[38;5;129;01min\u001b[39;00m pickle_load_args\u001b[38;5;241m.\u001b[39mkeys():\n\u001b[0;32m   1477\u001b[0m     pickle_load_args[\u001b[38;5;124m\"\u001b[39m\u001b[38;5;124mencoding\u001b[39m\u001b[38;5;124m\"\u001b[39m] \u001b[38;5;241m=\u001b[39m \u001b[38;5;124m\"\u001b[39m\u001b[38;5;124mutf-8\u001b[39m\u001b[38;5;124m\"\u001b[39m\n\u001b[1;32m-> 1479\u001b[0m \u001b[38;5;28;01mwith\u001b[39;00m _open_file_like(f, \u001b[38;5;124m\"\u001b[39m\u001b[38;5;124mrb\u001b[39m\u001b[38;5;124m\"\u001b[39m) \u001b[38;5;28;01mas\u001b[39;00m opened_file:\n\u001b[0;32m   1480\u001b[0m     \u001b[38;5;28;01mif\u001b[39;00m _is_zipfile(opened_file):\n\u001b[0;32m   1481\u001b[0m         \u001b[38;5;66;03m# The zipfile reader is going to advance the current file position.\u001b[39;00m\n\u001b[0;32m   1482\u001b[0m         \u001b[38;5;66;03m# If we want to actually tail call to torch.jit.load, we need to\u001b[39;00m\n\u001b[0;32m   1483\u001b[0m         \u001b[38;5;66;03m# reset back to the original position.\u001b[39;00m\n\u001b[0;32m   1484\u001b[0m         orig_position \u001b[38;5;241m=\u001b[39m opened_file\u001b[38;5;241m.\u001b[39mtell()\n",
            "File \u001b[1;32m~\\anaconda3\\Lib\\site-packages\\torch\\serialization.py:759\u001b[0m, in \u001b[0;36m_open_file_like\u001b[1;34m(name_or_buffer, mode)\u001b[0m\n\u001b[0;32m    757\u001b[0m \u001b[38;5;28;01mdef\u001b[39;00m \u001b[38;5;21m_open_file_like\u001b[39m(name_or_buffer: FileLike, mode: \u001b[38;5;28mstr\u001b[39m) \u001b[38;5;241m-\u001b[39m\u001b[38;5;241m>\u001b[39m _opener[IO[\u001b[38;5;28mbytes\u001b[39m]]:\n\u001b[0;32m    758\u001b[0m     \u001b[38;5;28;01mif\u001b[39;00m _is_path(name_or_buffer):\n\u001b[1;32m--> 759\u001b[0m         \u001b[38;5;28;01mreturn\u001b[39;00m _open_file(name_or_buffer, mode)\n\u001b[0;32m    760\u001b[0m     \u001b[38;5;28;01melse\u001b[39;00m:\n\u001b[0;32m    761\u001b[0m         \u001b[38;5;28;01mif\u001b[39;00m \u001b[38;5;124m\"\u001b[39m\u001b[38;5;124mw\u001b[39m\u001b[38;5;124m\"\u001b[39m \u001b[38;5;129;01min\u001b[39;00m mode:\n",
            "File \u001b[1;32m~\\anaconda3\\Lib\\site-packages\\torch\\serialization.py:740\u001b[0m, in \u001b[0;36m_open_file.__init__\u001b[1;34m(self, name, mode)\u001b[0m\n\u001b[0;32m    739\u001b[0m \u001b[38;5;28;01mdef\u001b[39;00m \u001b[38;5;21m__init__\u001b[39m(\u001b[38;5;28mself\u001b[39m, name: Union[\u001b[38;5;28mstr\u001b[39m, os\u001b[38;5;241m.\u001b[39mPathLike[\u001b[38;5;28mstr\u001b[39m]], mode: \u001b[38;5;28mstr\u001b[39m) \u001b[38;5;241m-\u001b[39m\u001b[38;5;241m>\u001b[39m \u001b[38;5;28;01mNone\u001b[39;00m:\n\u001b[1;32m--> 740\u001b[0m     \u001b[38;5;28msuper\u001b[39m()\u001b[38;5;241m.\u001b[39m\u001b[38;5;21m__init__\u001b[39m(\u001b[38;5;28mopen\u001b[39m(name, mode))\n",
            "\u001b[1;31mFileNotFoundError\u001b[0m: [Errno 2] No such file or directory: 'resnet_only_model.pth'"
          ]
        }
      ],
      "source": [
        "import torch\n",
        "import matplotlib.pyplot as plt\n",
        "import numpy as np\n",
        "\n",
        "# Sample small test set for debugging\n",
        "test_subset = test_data.sample(n=20, random_state=42).reset_index(drop=True)\n",
        "\n",
        "# Create test dataset\n",
        "test_dataset = ImageTestDataset(test_subset, img_dir=\"COMP5329S1A2Dataset/data\", tokenizer=tokenizer, transform=val_transform)\n",
        "test_loader = DataLoader(test_dataset, batch_size=16, shuffle=False, num_workers=0)\n",
        "\n",
        "# --- Load and run full (image+text) model ---\n",
        "model_full = RESNET18_MINIBERT_2fc_Model(num_classes=19)\n",
        "model_full.load_state_dict(torch.load(\"para_model.pth\", map_location=device))\n",
        "model_full.to(device)\n",
        "model_full.eval()\n",
        "\n",
        "# --- Load and run ResNet-only model ---\n",
        "model_resnet = RESNET18_ONLY_Model(num_classes=19)\n",
        "model_resnet.load_state_dict(torch.load(\"resnet_only_model.pth\", map_location=device))\n",
        "model_resnet.to(device)\n",
        "model_resnet.eval()\n",
        "\n",
        "# --- Predict with both models ---\n",
        "def predict_labels(model, loader, device, is_resnet_only=False):\n",
        "    all_preds = []\n",
        "    with torch.no_grad():\n",
        "        for batch in loader:\n",
        "            if is_resnet_only:\n",
        "                images = batch[0].to(device)\n",
        "                outputs = model(images)\n",
        "            else:\n",
        "                images, _, input_ids, attention_mask = batch\n",
        "                images = images.to(device)\n",
        "                input_ids = input_ids.to(device)\n",
        "                attention_mask = attention_mask.to(device)\n",
        "                outputs = model(images, input_ids, attention_mask)\n",
        "            probs = torch.sigmoid(outputs)\n",
        "            preds = (probs > 0.5).float()\n",
        "            all_preds.append(preds.cpu())\n",
        "    return torch.cat(all_preds, dim=0)\n",
        "\n",
        "preds_full = predict_labels(model_full, test_loader, device, is_resnet_only=False)\n",
        "preds_resnet = predict_labels(model_resnet, test_loader, device, is_resnet_only=True)\n",
        "\n",
        "# --- Visualize comparison ---\n",
        "labels_per_sample_full = preds_full.sum(dim=1).numpy()\n",
        "labels_per_sample_resnet = preds_resnet.sum(dim=1).numpy()\n",
        "\n",
        "x = np.arange(len(labels_per_sample_full))\n",
        "width = 0.35\n",
        "\n",
        "plt.figure(figsize=(12, 6))\n",
        "plt.bar(x - width/2, labels_per_sample_full, width, label='Full Model (image + text)')\n",
        "plt.bar(x + width/2, labels_per_sample_resnet, width, label='ResNet Only')\n",
        "plt.xlabel(\"Sample Index\")\n",
        "plt.ylabel(\"Predicted Label Count\")\n",
        "plt.title(\"Predicted Label Count per Sample (Full vs ResNet)\")\n",
        "plt.legend()\n",
        "plt.tight_layout()\n",
        "plt.savefig(\"compare_predicted_labels.png\")\n",
        "plt.show()\n"
      ]
    },
    {
      "cell_type": "code",
      "execution_count": null,
      "id": "52b9e854-6f2c-4276-94de-fefac08565b5",
      "metadata": {
        "scrolled": true,
        "id": "52b9e854-6f2c-4276-94de-fefac08565b5"
      },
      "outputs": [],
      "source": [
        "# Load the best saved model\n",
        "model.load_state_dict(torch.load(\"para_model.pth\", map_location=device))\n",
        "model.to(device)\n",
        "\n",
        "# Run prediction\n",
        "image_ids, predictions = predict(model, test_loader, device)\n",
        "\n",
        "# Save predictions in required format\n",
        "save_predictions(image_ids, predictions, filename=\"Predicted_labels.txt\")\n"
      ]
    }
  ],
  "metadata": {
    "kernelspec": {
      "display_name": "Python [conda env:base] *",
      "language": "python",
      "name": "conda-base-py"
    },
    "language_info": {
      "codemirror_mode": {
        "name": "ipython",
        "version": 3
      },
      "file_extension": ".py",
      "mimetype": "text/x-python",
      "name": "python",
      "nbconvert_exporter": "python",
      "pygments_lexer": "ipython3",
      "version": "3.12.7"
    },
    "colab": {
      "provenance": [],
      "gpuType": "T4",
      "include_colab_link": true
    },
    "accelerator": "GPU",
    "widgets": {
      "application/vnd.jupyter.widget-state+json": {
        "9618ceaafd1a4e5fa03dfe9100f9244b": {
          "model_module": "@jupyter-widgets/controls",
          "model_name": "HBoxModel",
          "model_module_version": "1.5.0",
          "state": {
            "_dom_classes": [],
            "_model_module": "@jupyter-widgets/controls",
            "_model_module_version": "1.5.0",
            "_model_name": "HBoxModel",
            "_view_count": null,
            "_view_module": "@jupyter-widgets/controls",
            "_view_module_version": "1.5.0",
            "_view_name": "HBoxView",
            "box_style": "",
            "children": [
              "IPY_MODEL_2fe0831ff0814ca88df60fd966361a21",
              "IPY_MODEL_c7aa1a29f55d4175a9a25b81908d4752",
              "IPY_MODEL_8fab371a33754497a4837c5dd57794db"
            ],
            "layout": "IPY_MODEL_b417490b1b044781900d9d7103dcca73"
          }
        },
        "2fe0831ff0814ca88df60fd966361a21": {
          "model_module": "@jupyter-widgets/controls",
          "model_name": "HTMLModel",
          "model_module_version": "1.5.0",
          "state": {
            "_dom_classes": [],
            "_model_module": "@jupyter-widgets/controls",
            "_model_module_version": "1.5.0",
            "_model_name": "HTMLModel",
            "_view_count": null,
            "_view_module": "@jupyter-widgets/controls",
            "_view_module_version": "1.5.0",
            "_view_name": "HTMLView",
            "description": "",
            "description_tooltip": null,
            "layout": "IPY_MODEL_4e4041fa211a4d9ea4fdc9846e9679b2",
            "placeholder": "​",
            "style": "IPY_MODEL_6af763c95a7f4de0be4b12706508d33f",
            "value": "vocab.txt: 100%"
          }
        },
        "c7aa1a29f55d4175a9a25b81908d4752": {
          "model_module": "@jupyter-widgets/controls",
          "model_name": "FloatProgressModel",
          "model_module_version": "1.5.0",
          "state": {
            "_dom_classes": [],
            "_model_module": "@jupyter-widgets/controls",
            "_model_module_version": "1.5.0",
            "_model_name": "FloatProgressModel",
            "_view_count": null,
            "_view_module": "@jupyter-widgets/controls",
            "_view_module_version": "1.5.0",
            "_view_name": "ProgressView",
            "bar_style": "success",
            "description": "",
            "description_tooltip": null,
            "layout": "IPY_MODEL_dc2d7585e3a64d5a9ad6ba00e8dd2671",
            "max": 231508,
            "min": 0,
            "orientation": "horizontal",
            "style": "IPY_MODEL_f786042ed4e64c35b1c7eb02c8aad6b4",
            "value": 231508
          }
        },
        "8fab371a33754497a4837c5dd57794db": {
          "model_module": "@jupyter-widgets/controls",
          "model_name": "HTMLModel",
          "model_module_version": "1.5.0",
          "state": {
            "_dom_classes": [],
            "_model_module": "@jupyter-widgets/controls",
            "_model_module_version": "1.5.0",
            "_model_name": "HTMLModel",
            "_view_count": null,
            "_view_module": "@jupyter-widgets/controls",
            "_view_module_version": "1.5.0",
            "_view_name": "HTMLView",
            "description": "",
            "description_tooltip": null,
            "layout": "IPY_MODEL_36822762d069480db0c00b96d1dacf28",
            "placeholder": "​",
            "style": "IPY_MODEL_c3484826e867461986e23c4f115b45db",
            "value": " 232k/232k [00:00&lt;00:00, 4.60MB/s]"
          }
        },
        "b417490b1b044781900d9d7103dcca73": {
          "model_module": "@jupyter-widgets/base",
          "model_name": "LayoutModel",
          "model_module_version": "1.2.0",
          "state": {
            "_model_module": "@jupyter-widgets/base",
            "_model_module_version": "1.2.0",
            "_model_name": "LayoutModel",
            "_view_count": null,
            "_view_module": "@jupyter-widgets/base",
            "_view_module_version": "1.2.0",
            "_view_name": "LayoutView",
            "align_content": null,
            "align_items": null,
            "align_self": null,
            "border": null,
            "bottom": null,
            "display": null,
            "flex": null,
            "flex_flow": null,
            "grid_area": null,
            "grid_auto_columns": null,
            "grid_auto_flow": null,
            "grid_auto_rows": null,
            "grid_column": null,
            "grid_gap": null,
            "grid_row": null,
            "grid_template_areas": null,
            "grid_template_columns": null,
            "grid_template_rows": null,
            "height": null,
            "justify_content": null,
            "justify_items": null,
            "left": null,
            "margin": null,
            "max_height": null,
            "max_width": null,
            "min_height": null,
            "min_width": null,
            "object_fit": null,
            "object_position": null,
            "order": null,
            "overflow": null,
            "overflow_x": null,
            "overflow_y": null,
            "padding": null,
            "right": null,
            "top": null,
            "visibility": null,
            "width": null
          }
        },
        "4e4041fa211a4d9ea4fdc9846e9679b2": {
          "model_module": "@jupyter-widgets/base",
          "model_name": "LayoutModel",
          "model_module_version": "1.2.0",
          "state": {
            "_model_module": "@jupyter-widgets/base",
            "_model_module_version": "1.2.0",
            "_model_name": "LayoutModel",
            "_view_count": null,
            "_view_module": "@jupyter-widgets/base",
            "_view_module_version": "1.2.0",
            "_view_name": "LayoutView",
            "align_content": null,
            "align_items": null,
            "align_self": null,
            "border": null,
            "bottom": null,
            "display": null,
            "flex": null,
            "flex_flow": null,
            "grid_area": null,
            "grid_auto_columns": null,
            "grid_auto_flow": null,
            "grid_auto_rows": null,
            "grid_column": null,
            "grid_gap": null,
            "grid_row": null,
            "grid_template_areas": null,
            "grid_template_columns": null,
            "grid_template_rows": null,
            "height": null,
            "justify_content": null,
            "justify_items": null,
            "left": null,
            "margin": null,
            "max_height": null,
            "max_width": null,
            "min_height": null,
            "min_width": null,
            "object_fit": null,
            "object_position": null,
            "order": null,
            "overflow": null,
            "overflow_x": null,
            "overflow_y": null,
            "padding": null,
            "right": null,
            "top": null,
            "visibility": null,
            "width": null
          }
        },
        "6af763c95a7f4de0be4b12706508d33f": {
          "model_module": "@jupyter-widgets/controls",
          "model_name": "DescriptionStyleModel",
          "model_module_version": "1.5.0",
          "state": {
            "_model_module": "@jupyter-widgets/controls",
            "_model_module_version": "1.5.0",
            "_model_name": "DescriptionStyleModel",
            "_view_count": null,
            "_view_module": "@jupyter-widgets/base",
            "_view_module_version": "1.2.0",
            "_view_name": "StyleView",
            "description_width": ""
          }
        },
        "dc2d7585e3a64d5a9ad6ba00e8dd2671": {
          "model_module": "@jupyter-widgets/base",
          "model_name": "LayoutModel",
          "model_module_version": "1.2.0",
          "state": {
            "_model_module": "@jupyter-widgets/base",
            "_model_module_version": "1.2.0",
            "_model_name": "LayoutModel",
            "_view_count": null,
            "_view_module": "@jupyter-widgets/base",
            "_view_module_version": "1.2.0",
            "_view_name": "LayoutView",
            "align_content": null,
            "align_items": null,
            "align_self": null,
            "border": null,
            "bottom": null,
            "display": null,
            "flex": null,
            "flex_flow": null,
            "grid_area": null,
            "grid_auto_columns": null,
            "grid_auto_flow": null,
            "grid_auto_rows": null,
            "grid_column": null,
            "grid_gap": null,
            "grid_row": null,
            "grid_template_areas": null,
            "grid_template_columns": null,
            "grid_template_rows": null,
            "height": null,
            "justify_content": null,
            "justify_items": null,
            "left": null,
            "margin": null,
            "max_height": null,
            "max_width": null,
            "min_height": null,
            "min_width": null,
            "object_fit": null,
            "object_position": null,
            "order": null,
            "overflow": null,
            "overflow_x": null,
            "overflow_y": null,
            "padding": null,
            "right": null,
            "top": null,
            "visibility": null,
            "width": null
          }
        },
        "f786042ed4e64c35b1c7eb02c8aad6b4": {
          "model_module": "@jupyter-widgets/controls",
          "model_name": "ProgressStyleModel",
          "model_module_version": "1.5.0",
          "state": {
            "_model_module": "@jupyter-widgets/controls",
            "_model_module_version": "1.5.0",
            "_model_name": "ProgressStyleModel",
            "_view_count": null,
            "_view_module": "@jupyter-widgets/base",
            "_view_module_version": "1.2.0",
            "_view_name": "StyleView",
            "bar_color": null,
            "description_width": ""
          }
        },
        "36822762d069480db0c00b96d1dacf28": {
          "model_module": "@jupyter-widgets/base",
          "model_name": "LayoutModel",
          "model_module_version": "1.2.0",
          "state": {
            "_model_module": "@jupyter-widgets/base",
            "_model_module_version": "1.2.0",
            "_model_name": "LayoutModel",
            "_view_count": null,
            "_view_module": "@jupyter-widgets/base",
            "_view_module_version": "1.2.0",
            "_view_name": "LayoutView",
            "align_content": null,
            "align_items": null,
            "align_self": null,
            "border": null,
            "bottom": null,
            "display": null,
            "flex": null,
            "flex_flow": null,
            "grid_area": null,
            "grid_auto_columns": null,
            "grid_auto_flow": null,
            "grid_auto_rows": null,
            "grid_column": null,
            "grid_gap": null,
            "grid_row": null,
            "grid_template_areas": null,
            "grid_template_columns": null,
            "grid_template_rows": null,
            "height": null,
            "justify_content": null,
            "justify_items": null,
            "left": null,
            "margin": null,
            "max_height": null,
            "max_width": null,
            "min_height": null,
            "min_width": null,
            "object_fit": null,
            "object_position": null,
            "order": null,
            "overflow": null,
            "overflow_x": null,
            "overflow_y": null,
            "padding": null,
            "right": null,
            "top": null,
            "visibility": null,
            "width": null
          }
        },
        "c3484826e867461986e23c4f115b45db": {
          "model_module": "@jupyter-widgets/controls",
          "model_name": "DescriptionStyleModel",
          "model_module_version": "1.5.0",
          "state": {
            "_model_module": "@jupyter-widgets/controls",
            "_model_module_version": "1.5.0",
            "_model_name": "DescriptionStyleModel",
            "_view_count": null,
            "_view_module": "@jupyter-widgets/base",
            "_view_module_version": "1.2.0",
            "_view_name": "StyleView",
            "description_width": ""
          }
        },
        "6bbd177fdca14e81bbb1d3c55cf41ba0": {
          "model_module": "@jupyter-widgets/controls",
          "model_name": "HBoxModel",
          "model_module_version": "1.5.0",
          "state": {
            "_dom_classes": [],
            "_model_module": "@jupyter-widgets/controls",
            "_model_module_version": "1.5.0",
            "_model_name": "HBoxModel",
            "_view_count": null,
            "_view_module": "@jupyter-widgets/controls",
            "_view_module_version": "1.5.0",
            "_view_name": "HBoxView",
            "box_style": "",
            "children": [
              "IPY_MODEL_6c946f388de54f81820d8df71fe6d388",
              "IPY_MODEL_95351160cd5e499b8ea730a25a81940d",
              "IPY_MODEL_dcc3481e20594533a9fa455c32166a75"
            ],
            "layout": "IPY_MODEL_6420959bf8e54c3d8123245eda562bdf"
          }
        },
        "6c946f388de54f81820d8df71fe6d388": {
          "model_module": "@jupyter-widgets/controls",
          "model_name": "HTMLModel",
          "model_module_version": "1.5.0",
          "state": {
            "_dom_classes": [],
            "_model_module": "@jupyter-widgets/controls",
            "_model_module_version": "1.5.0",
            "_model_name": "HTMLModel",
            "_view_count": null,
            "_view_module": "@jupyter-widgets/controls",
            "_view_module_version": "1.5.0",
            "_view_name": "HTMLView",
            "description": "",
            "description_tooltip": null,
            "layout": "IPY_MODEL_b83c0f5d7255441793bfaee1d14b86b4",
            "placeholder": "​",
            "style": "IPY_MODEL_5645af4ce5ef4181b5cb3ca66cacdef0",
            "value": "config.json: 100%"
          }
        },
        "95351160cd5e499b8ea730a25a81940d": {
          "model_module": "@jupyter-widgets/controls",
          "model_name": "FloatProgressModel",
          "model_module_version": "1.5.0",
          "state": {
            "_dom_classes": [],
            "_model_module": "@jupyter-widgets/controls",
            "_model_module_version": "1.5.0",
            "_model_name": "FloatProgressModel",
            "_view_count": null,
            "_view_module": "@jupyter-widgets/controls",
            "_view_module_version": "1.5.0",
            "_view_name": "ProgressView",
            "bar_style": "success",
            "description": "",
            "description_tooltip": null,
            "layout": "IPY_MODEL_77f229120986437e90f1323f81daa398",
            "max": 286,
            "min": 0,
            "orientation": "horizontal",
            "style": "IPY_MODEL_a1fe71d18b34428fb48d8b82e74f65ad",
            "value": 286
          }
        },
        "dcc3481e20594533a9fa455c32166a75": {
          "model_module": "@jupyter-widgets/controls",
          "model_name": "HTMLModel",
          "model_module_version": "1.5.0",
          "state": {
            "_dom_classes": [],
            "_model_module": "@jupyter-widgets/controls",
            "_model_module_version": "1.5.0",
            "_model_name": "HTMLModel",
            "_view_count": null,
            "_view_module": "@jupyter-widgets/controls",
            "_view_module_version": "1.5.0",
            "_view_name": "HTMLView",
            "description": "",
            "description_tooltip": null,
            "layout": "IPY_MODEL_effe46e47f8949ac93dda2e5d7058e32",
            "placeholder": "​",
            "style": "IPY_MODEL_e2b179408c9744ec971d58039854cd0c",
            "value": " 286/286 [00:00&lt;00:00, 22.4kB/s]"
          }
        },
        "6420959bf8e54c3d8123245eda562bdf": {
          "model_module": "@jupyter-widgets/base",
          "model_name": "LayoutModel",
          "model_module_version": "1.2.0",
          "state": {
            "_model_module": "@jupyter-widgets/base",
            "_model_module_version": "1.2.0",
            "_model_name": "LayoutModel",
            "_view_count": null,
            "_view_module": "@jupyter-widgets/base",
            "_view_module_version": "1.2.0",
            "_view_name": "LayoutView",
            "align_content": null,
            "align_items": null,
            "align_self": null,
            "border": null,
            "bottom": null,
            "display": null,
            "flex": null,
            "flex_flow": null,
            "grid_area": null,
            "grid_auto_columns": null,
            "grid_auto_flow": null,
            "grid_auto_rows": null,
            "grid_column": null,
            "grid_gap": null,
            "grid_row": null,
            "grid_template_areas": null,
            "grid_template_columns": null,
            "grid_template_rows": null,
            "height": null,
            "justify_content": null,
            "justify_items": null,
            "left": null,
            "margin": null,
            "max_height": null,
            "max_width": null,
            "min_height": null,
            "min_width": null,
            "object_fit": null,
            "object_position": null,
            "order": null,
            "overflow": null,
            "overflow_x": null,
            "overflow_y": null,
            "padding": null,
            "right": null,
            "top": null,
            "visibility": null,
            "width": null
          }
        },
        "b83c0f5d7255441793bfaee1d14b86b4": {
          "model_module": "@jupyter-widgets/base",
          "model_name": "LayoutModel",
          "model_module_version": "1.2.0",
          "state": {
            "_model_module": "@jupyter-widgets/base",
            "_model_module_version": "1.2.0",
            "_model_name": "LayoutModel",
            "_view_count": null,
            "_view_module": "@jupyter-widgets/base",
            "_view_module_version": "1.2.0",
            "_view_name": "LayoutView",
            "align_content": null,
            "align_items": null,
            "align_self": null,
            "border": null,
            "bottom": null,
            "display": null,
            "flex": null,
            "flex_flow": null,
            "grid_area": null,
            "grid_auto_columns": null,
            "grid_auto_flow": null,
            "grid_auto_rows": null,
            "grid_column": null,
            "grid_gap": null,
            "grid_row": null,
            "grid_template_areas": null,
            "grid_template_columns": null,
            "grid_template_rows": null,
            "height": null,
            "justify_content": null,
            "justify_items": null,
            "left": null,
            "margin": null,
            "max_height": null,
            "max_width": null,
            "min_height": null,
            "min_width": null,
            "object_fit": null,
            "object_position": null,
            "order": null,
            "overflow": null,
            "overflow_x": null,
            "overflow_y": null,
            "padding": null,
            "right": null,
            "top": null,
            "visibility": null,
            "width": null
          }
        },
        "5645af4ce5ef4181b5cb3ca66cacdef0": {
          "model_module": "@jupyter-widgets/controls",
          "model_name": "DescriptionStyleModel",
          "model_module_version": "1.5.0",
          "state": {
            "_model_module": "@jupyter-widgets/controls",
            "_model_module_version": "1.5.0",
            "_model_name": "DescriptionStyleModel",
            "_view_count": null,
            "_view_module": "@jupyter-widgets/base",
            "_view_module_version": "1.2.0",
            "_view_name": "StyleView",
            "description_width": ""
          }
        },
        "77f229120986437e90f1323f81daa398": {
          "model_module": "@jupyter-widgets/base",
          "model_name": "LayoutModel",
          "model_module_version": "1.2.0",
          "state": {
            "_model_module": "@jupyter-widgets/base",
            "_model_module_version": "1.2.0",
            "_model_name": "LayoutModel",
            "_view_count": null,
            "_view_module": "@jupyter-widgets/base",
            "_view_module_version": "1.2.0",
            "_view_name": "LayoutView",
            "align_content": null,
            "align_items": null,
            "align_self": null,
            "border": null,
            "bottom": null,
            "display": null,
            "flex": null,
            "flex_flow": null,
            "grid_area": null,
            "grid_auto_columns": null,
            "grid_auto_flow": null,
            "grid_auto_rows": null,
            "grid_column": null,
            "grid_gap": null,
            "grid_row": null,
            "grid_template_areas": null,
            "grid_template_columns": null,
            "grid_template_rows": null,
            "height": null,
            "justify_content": null,
            "justify_items": null,
            "left": null,
            "margin": null,
            "max_height": null,
            "max_width": null,
            "min_height": null,
            "min_width": null,
            "object_fit": null,
            "object_position": null,
            "order": null,
            "overflow": null,
            "overflow_x": null,
            "overflow_y": null,
            "padding": null,
            "right": null,
            "top": null,
            "visibility": null,
            "width": null
          }
        },
        "a1fe71d18b34428fb48d8b82e74f65ad": {
          "model_module": "@jupyter-widgets/controls",
          "model_name": "ProgressStyleModel",
          "model_module_version": "1.5.0",
          "state": {
            "_model_module": "@jupyter-widgets/controls",
            "_model_module_version": "1.5.0",
            "_model_name": "ProgressStyleModel",
            "_view_count": null,
            "_view_module": "@jupyter-widgets/base",
            "_view_module_version": "1.2.0",
            "_view_name": "StyleView",
            "bar_color": null,
            "description_width": ""
          }
        },
        "effe46e47f8949ac93dda2e5d7058e32": {
          "model_module": "@jupyter-widgets/base",
          "model_name": "LayoutModel",
          "model_module_version": "1.2.0",
          "state": {
            "_model_module": "@jupyter-widgets/base",
            "_model_module_version": "1.2.0",
            "_model_name": "LayoutModel",
            "_view_count": null,
            "_view_module": "@jupyter-widgets/base",
            "_view_module_version": "1.2.0",
            "_view_name": "LayoutView",
            "align_content": null,
            "align_items": null,
            "align_self": null,
            "border": null,
            "bottom": null,
            "display": null,
            "flex": null,
            "flex_flow": null,
            "grid_area": null,
            "grid_auto_columns": null,
            "grid_auto_flow": null,
            "grid_auto_rows": null,
            "grid_column": null,
            "grid_gap": null,
            "grid_row": null,
            "grid_template_areas": null,
            "grid_template_columns": null,
            "grid_template_rows": null,
            "height": null,
            "justify_content": null,
            "justify_items": null,
            "left": null,
            "margin": null,
            "max_height": null,
            "max_width": null,
            "min_height": null,
            "min_width": null,
            "object_fit": null,
            "object_position": null,
            "order": null,
            "overflow": null,
            "overflow_x": null,
            "overflow_y": null,
            "padding": null,
            "right": null,
            "top": null,
            "visibility": null,
            "width": null
          }
        },
        "e2b179408c9744ec971d58039854cd0c": {
          "model_module": "@jupyter-widgets/controls",
          "model_name": "DescriptionStyleModel",
          "model_module_version": "1.5.0",
          "state": {
            "_model_module": "@jupyter-widgets/controls",
            "_model_module_version": "1.5.0",
            "_model_name": "DescriptionStyleModel",
            "_view_count": null,
            "_view_module": "@jupyter-widgets/base",
            "_view_module_version": "1.2.0",
            "_view_name": "StyleView",
            "description_width": ""
          }
        }
      }
    }
  },
  "nbformat": 4,
  "nbformat_minor": 5
}